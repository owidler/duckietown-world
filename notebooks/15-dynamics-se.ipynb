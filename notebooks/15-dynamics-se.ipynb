{
  "cells": [
    {
      "cell_type": "markdown",
      "metadata": {
        "pycharm": {}
      },
      "source": "# Example of Dynamics Model integration\n "
    },
    {
      "cell_type": "code",
      "execution_count": null,
      "metadata": {
        "pycharm": {
          "is_executing": true
        }
      },
      "outputs": [],
      "source": "%load_ext autoreload\n%autoreload 2\nimport geometry as geo\nimport numpy as np\nfrom duckietown_world.world_duckietown import *"
    },
    {
      "cell_type": "markdown",
      "metadata": {
        "pycharm": {}
      },
      "source": "### Simulation"
    },
    {
      "cell_type": "code",
      "execution_count": null,
      "metadata": {
        "pycharm": {
          "is_executing": true
        }
      },
      "outputs": [],
      "source": "\n# Model Parameters\nu2 \u003d u3 \u003d w1 \u003d w2 \u003d w3 \u003d 0 # to simplify the model\nu1 \u003d w1 \u003d 1 # main contributor from unforced dynamics\nuar \u003d ual \u003d war \u003d wal \u003d 1 # input matrix\n\nparameters \u003d DynamicModelParameters(u1, u2, u3, w1, w2, w3, uar, ual, war, wal)\n\n# initial configuration\ninit_pose \u003d np.array([0,0])\ninit_vel \u003d np.array([0,0])\ninit_time \u003d 0\n\nq0 \u003d geo.SE2_from_R2(init_pose)\nv0 \u003d geo.se2_from_linear_angular(init_vel, 0)\nc0 \u003d q0, v0\n\n# starting time\nt0 \u003d 0\nstate \u003d parameters.initialize(c0\u003dc0, t0\u003dt0)\n\n\ndel_t \u003d 1\n\nfor i in range(5):\n    # input \u003d (left: -0.1, right: 0.1) must generate a counter-clockwise rotation (increasing theta)\n    commands \u003d PWMCommands(-0.1, 0.1)\n    state \u003d state.integrate(del_t, commands)\n    \n    qv0 \u003d state.TSE2_from_state()\n    current_p, theta \u003d geo.translation_angle_from_SE2(qv0)\n    \n    print(\u0027pose: {}\u0027.format(current_p))\n    print(\u0027theta: {}\u0027.format(np.rad2deg(theta)))\n\n"
    }
  ],
  "metadata": {
    "celltoolbar": "Raw Cell Format",
    "kernelspec": {
      "display_name": "Python 3",
      "language": "python",
      "name": "python3"
    },
    "language_info": {
      "codemirror_mode": {
        "name": "ipython",
        "version": 3
      },
      "file_extension": ".py",
      "mimetype": "text/x-python",
      "name": "python",
      "nbconvert_exporter": "python",
      "pygments_lexer": "ipython3",
      "version": "3.7.2"
    }
  },
  "nbformat": 4,
  "nbformat_minor": 2
}