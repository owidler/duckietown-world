{
 "cells": [
  {
   "cell_type": "markdown",
   "metadata": {},
   "source": [
    "# Setup"
   ]
  },
  {
   "cell_type": "code",
   "execution_count": 90,
   "metadata": {},
   "outputs": [],
   "source": [
    "import contracts\n",
    "import os\n",
    "contracts.disable_all()\n",
    "import duckietown_world as dw\n",
    "from duckietown_world.svg_drawing.ipython_utils import ipython_draw_html\n",
    "dw.logger.setLevel(50)"
   ]
  },
  {
   "cell_type": "markdown",
   "metadata": {},
   "source": [
    "Better visualization of output"
   ]
  },
  {
   "cell_type": "code",
   "execution_count": 91,
   "metadata": {},
   "outputs": [
    {
     "data": {
      "text/html": [
       "<style>\n",
       "pre {line-height: 90%}\n",
       "</style>\n"
      ],
      "text/plain": [
       "<IPython.core.display.HTML object>"
      ]
     },
     "metadata": {},
     "output_type": "display_data"
    }
   ],
   "source": [
    "%%html\n",
    "<style>\n",
    "pre {line-height: 90%}\n",
    "</style>"
   ]
  },
  {
   "cell_type": "markdown",
   "metadata": {},
   "source": [
    "# Map representation\n",
    "\n",
    "Let's load a map and see how data is represented inside:"
   ]
  },
  {
   "cell_type": "code",
   "execution_count": 93,
   "metadata": {},
   "outputs": [
    {
     "name": "stdout",
     "output_type": "stream",
     "text": [
      "<module 'posixpath' from '/home/linuxbrew/.linuxbrew/opt/python/lib/python3.7/posixpath.py'>\n"
     ]
    },
    {
     "data": {
      "text/html": [
       "\n",
       "        <iframe\n",
       "            width=\"100%\"\n",
       "            height=\"600\"\n",
       "            src=\"out/ipython_draw_html/140600085969040/drawing.html\"\n",
       "            frameborder=\"0\"\n",
       "            allowfullscreen\n",
       "        ></iframe>\n",
       "        "
      ],
      "text/plain": [
       "<IPython.lib.display.IFrame at 0x7fe0022e4110>"
      ]
     },
     "metadata": {},
     "output_type": "display_data"
    }
   ],
   "source": [
    "print(os.path)\n",
    "m = dw.load_map('ethz_amod_lab_k31')\n",
    "ipython_draw_html(m);\n"
   ]
  },
  {
   "cell_type": "markdown",
   "metadata": {},
   "source": [
    "The map is a `DuckietownMap` which is an instance of `PlacedObject`. All spatially situated objects\n",
    "are instances of this class."
   ]
  },
  {
   "cell_type": "code",
   "execution_count": 94,
   "metadata": {
    "scrolled": false
   },
   "outputs": [
    {
     "data": {
      "text/plain": [
       "[duckietown_world.world_duckietown.duckietown_map.DuckietownMap,\n",
       " duckietown_world.geo.placed_object.PlacedObject,\n",
       " duckietown_serialization_ds1.serialization1.Serializable,\n",
       " duckietown_serialization_ds1.serialization1.Serializable0,\n",
       " object]"
      ]
     },
     "execution_count": 94,
     "metadata": {},
     "output_type": "execute_result"
    }
   ],
   "source": [
    "type(m).mro() # see all superclasses of the object"
   ]
  },
  {
   "cell_type": "markdown",
   "metadata": {},
   "source": [
    "## Children"
   ]
  },
  {
   "cell_type": "markdown",
   "metadata": {},
   "source": [
    "The data is arranged in a hierarchy. We can visualize using the function `get_object_tree`. The hierarchy is more deep, but we clip it to 2 levels:"
   ]
  },
  {
   "cell_type": "code",
   "execution_count": 95,
   "metadata": {
    "scrolled": true
   },
   "outputs": [
    {
     "name": "stdout",
     "output_type": "stream",
     "text": [
      "DuckietownMap\n",
      "\n",
      "└ tilemap ┐ TileMap\n",
      "          │ \n",
      "          │ ├ tile-0-5 ┐ Tile\n",
      "          │ │          │\n",
      "          │ │          │ └ curve_left ┐ PlacedObject\n",
      "          │ │          │              │\n",
      "          │ │          │              │ └ curve ┐ PlacedObject\n",
      "          │ │          │              │         └───────────────\n",
      "          │ │          │              └───────────────────────────\n",
      "          │ │          └────────────────────────────────────────────\n",
      "          │ ├ tile-1-5 ┐ Tile\n",
      "          │ │          │\n",
      "          │ │          │ └ straight ┐ PlacedObject\n",
      "          │ │          │            │\n",
      "          │ │          │            │ ├ lane1 ┐ LaneSegment\n",
      "          │ │          │            │ │       └──────────────\n",
      "          │ │          │            │ └ lane2 ┐ LaneSegment\n",
      "          │ │          │            │         └──────────────\n",
      "          │ │          │            └──────────────────────────\n",
      "          │ │          └─────────────────────────────────────────\n",
      "          │ ├ tile-2-5 ┐ Tile\n",
      "          │ │          │\n",
      "          │ │          │ └ 3way_left ┐ PlacedObject\n",
      "          │ │          │             │\n",
      "          │ │          │             │ ├ west_go_straight ┐ LaneSegment\n",
      "          │ │          │             │ │                  └──────────────\n",
      "          │ │          │             │ ├ west_go_left ┐ LaneSegment\n",
      "          │ │          │             │ │              └──────────────\n",
      "          │ │          │             │ ├ north_go_left ┐ LaneSegment\n",
      "          │ │          │             │ │               └──────────────\n",
      "          │ │          │             │ ├ north_go_right ┐ LaneSegment\n",
      "          │ │          │             │ │                └──────────────\n",
      "          │ │          │             │ ├ east_go_right ┐ LaneSegment\n",
      "          │ │          │             │ │               └──────────────\n",
      "          │ │          │             │ └ east_go_straight ┐ LaneSegment\n",
      "          │ │          │             │                    └──────────────\n",
      "          │ │          │             └─────────────────────────────────────\n",
      "          │ │          └─────────────────────────────────────────────────────\n",
      "          │ ├ tile-3-5 ┐ Tile\n",
      "          │ │          │\n",
      "          │ │          │ └ straight ┐ PlacedObject\n",
      "          │ │          │            │\n",
      "          │ │          │            │ ├ lane1 ┐ LaneSegment\n",
      "          │ │          │            │ │       └──────────────\n",
      "          │ │          │            │ └ lane2 ┐ LaneSegment\n",
      "          │ │          │            │         └──────────────\n",
      "          │ │          │            └──────────────────────────\n",
      "          │ │          └─────────────────────────────────────────\n",
      "          │ ├ tile-4-5 ┐ Tile\n",
      "          │ │          │\n",
      "          │ │          │ └ curve_left ┐ PlacedObject\n",
      "          │ │          │              │\n",
      "          │ │          │              │ └ curve ┐ PlacedObject\n",
      "          │ │          │              │         └───────────────\n",
      "          │ │          │              └───────────────────────────\n",
      "          │ │          └────────────────────────────────────────────\n",
      "          │ ├ tile-5-5 ┐ Tile\n",
      "          │ │          └───────\n",
      "          │ ├ tile-0-4 ┐ Tile\n",
      "          │ │          │\n",
      "          │ │          │ └ straight ┐ PlacedObject\n",
      "          │ │          │            │\n",
      "          │ │          │            │ ├ lane1 ┐ LaneSegment\n",
      "          │ │          │            │ │       └──────────────\n",
      "          │ │          │            │ └ lane2 ┐ LaneSegment\n",
      "          │ │          │            │         └──────────────\n",
      "          │ │          │            └──────────────────────────\n",
      "          │ │          └─────────────────────────────────────────\n",
      "          │ ├ tile-1-4 ┐ Tile\n",
      "          │ │          └───────\n",
      "          │ ├ tile-2-4 ┐ Tile\n",
      "          │ │          │\n",
      "          │ │          │ └ straight ┐ PlacedObject\n",
      "          │ │          │            │\n",
      "          │ │          │            │ ├ lane1 ┐ LaneSegment\n",
      "          │ │          │            │ │       └──────────────\n",
      "          │ │          │            │ └ lane2 ┐ LaneSegment\n",
      "          │ │          │            │         └──────────────\n",
      "          │ │          │            └──────────────────────────\n",
      "          │ │          └─────────────────────────────────────────\n",
      "          │ ├ tile-3-4 ┐ Tile\n",
      "          │ │          └───────\n",
      "          │ ├ tile-4-4 ┐ Tile\n",
      "          │ │          │\n",
      "          │ │          │ └ curve_left ┐ PlacedObject\n",
      "          │ │          │              │\n",
      "          │ │          │              │ └ curve ┐ PlacedObject\n",
      "          │ │          │              │         └───────────────\n",
      "          │ │          │              └───────────────────────────\n",
      "          │ │          └────────────────────────────────────────────\n",
      "          │ ├ tile-5-4 ┐ Tile\n",
      "          │ │          │\n",
      "          │ │          │ └ curve_left ┐ PlacedObject\n",
      "          │ │          │              │\n",
      "          │ │          │              │ └ curve ┐ PlacedObject\n",
      "          │ │          │              │         └───────────────\n",
      "          │ │          │              └───────────────────────────\n",
      "          │ │          └────────────────────────────────────────────\n",
      "          │ ├ tile-0-3 ┐ Tile\n",
      "          │ │          │\n",
      "          │ │          │ └ straight ┐ PlacedObject\n",
      "          │ │          │            │\n",
      "          │ │          │            │ ├ lane1 ┐ LaneSegment\n",
      "          │ │          │            │ │       └──────────────\n",
      "          │ │          │            │ └ lane2 ┐ LaneSegment\n",
      "          │ │          │            │         └──────────────\n",
      "          │ │          │            └──────────────────────────\n",
      "          │ │          └─────────────────────────────────────────\n",
      "          │ ├ tile-1-3 ┐ Tile\n",
      "          │ │          └───────\n",
      "          │ ├ tile-2-3 ┐ Tile\n",
      "          │ │          │\n",
      "          │ │          │ └ straight ┐ PlacedObject\n",
      "          │ │          │            │\n",
      "          │ │          │            │ ├ lane1 ┐ LaneSegment\n",
      "          │ │          │            │ │       └──────────────\n",
      "          │ │          │            │ └ lane2 ┐ LaneSegment\n",
      "          │ │          │            │         └──────────────\n",
      "          │ │          │            └──────────────────────────\n",
      "          │ │          └─────────────────────────────────────────\n",
      "          │ ├ tile-3-3 ┐ Tile\n",
      "          │ │          └───────\n",
      "          │ ├ tile-4-3 ┐ Tile\n",
      "          │ │          └───────\n",
      "          │ ├ tile-5-3 ┐ Tile\n",
      "          │ │          │\n",
      "          │ │          │ └ straight ┐ PlacedObject\n",
      "          │ │          │            │\n",
      "          │ │          │            │ ├ lane1 ┐ LaneSegment\n",
      "          │ │          │            │ │       └──────────────\n",
      "          │ │          │            │ └ lane2 ┐ LaneSegment\n",
      "          │ │          │            │         └──────────────\n",
      "          │ │          │            └──────────────────────────\n",
      "          │ │          └─────────────────────────────────────────\n",
      "          │ ├ tile-0-2 ┐ Tile\n",
      "          │ │          │\n",
      "          │ │          │ └ curve_right ┐ PlacedObject\n",
      "          │ │          │               │\n",
      "          │ │          │               │ ├ lane1 ┐ LaneSegment\n",
      "          │ │          │               │ │       └──────────────\n",
      "          │ │          │               │ └ lane2 ┐ LaneSegment\n",
      "          │ │          │               │         └──────────────\n",
      "          │ │          │               └──────────────────────────\n",
      "          │ │          └────────────────────────────────────────────\n",
      "          │ ├ tile-1-2 ┐ Tile\n",
      "          │ │          │\n",
      "          │ │          │ └ straight ┐ PlacedObject\n",
      "          │ │          │            │\n",
      "          │ │          │            │ ├ lane1 ┐ LaneSegment\n",
      "          │ │          │            │ │       └──────────────\n",
      "          │ │          │            │ └ lane2 ┐ LaneSegment\n",
      "          │ │          │            │         └──────────────\n",
      "          │ │          │            └──────────────────────────\n",
      "          │ │          └─────────────────────────────────────────\n",
      "          │ ├ tile-2-2 ┐ Tile\n",
      "          │ │          │\n",
      "          │ │          │ └ 4way ┐ PlacedObject\n",
      "          │ │          │        │\n",
      "          │ │          │        │ ├ a ┐ PlacedObject\n",
      "          │ │          │        │ │   └───────────────\n",
      "          │ │          │        │ ├ b ┐ PlacedObject\n",
      "          │ │          │        │ │   └───────────────\n",
      "          │ │          │        │ ├ c ┐ PlacedObject\n",
      "          │ │          │        │ │   └───────────────\n",
      "          │ │          │        │ └ d ┐ PlacedObject\n",
      "          │ │          │        │     └───────────────\n",
      "          │ │          │        └───────────────────────\n",
      "          │ │          └──────────────────────────────────\n",
      "          │ ├ tile-3-2 ┐ Tile\n",
      "          │ │          │\n",
      "          │ │          │ └ straight ┐ PlacedObject\n",
      "          │ │          │            │\n",
      "          │ │          │            │ ├ lane1 ┐ LaneSegment\n",
      "          │ │          │            │ │       └──────────────\n",
      "          │ │          │            │ └ lane2 ┐ LaneSegment\n",
      "          │ │          │            │         └──────────────\n",
      "          │ │          │            └──────────────────────────\n",
      "          │ │          └─────────────────────────────────────────\n",
      "          │ ├ tile-4-2 ┐ Tile\n",
      "          │ │          │\n",
      "          │ │          │ └ straight ┐ PlacedObject\n",
      "          │ │          │            │\n",
      "          │ │          │            │ ├ lane1 ┐ LaneSegment\n",
      "          │ │          │            │ │       └──────────────\n",
      "          │ │          │            │ └ lane2 ┐ LaneSegment\n",
      "          │ │          │            │         └──────────────\n",
      "          │ │          │            └──────────────────────────\n",
      "          │ │          └─────────────────────────────────────────\n",
      "          │ ├ tile-5-2 ┐ Tile\n",
      "          │ │          │\n",
      "          │ │          │ └ 3way_left ┐ PlacedObject\n",
      "          │ │          │             │\n",
      "          │ │          │             │ ├ west_go_straight ┐ LaneSegment\n",
      "          │ │          │             │ │                  └──────────────\n",
      "          │ │          │             │ ├ west_go_left ┐ LaneSegment\n",
      "          │ │          │             │ │              └──────────────\n",
      "          │ │          │             │ ├ north_go_left ┐ LaneSegment\n",
      "          │ │          │             │ │               └──────────────\n",
      "          │ │          │             │ ├ north_go_right ┐ LaneSegment\n",
      "          │ │          │             │ │                └──────────────\n",
      "          │ │          │             │ ├ east_go_right ┐ LaneSegment\n",
      "          │ │          │             │ │               └──────────────\n",
      "          │ │          │             │ └ east_go_straight ┐ LaneSegment\n",
      "          │ │          │             │                    └──────────────\n",
      "          │ │          │             └─────────────────────────────────────\n",
      "          │ │          └─────────────────────────────────────────────────────\n",
      "          │ ├ tile-0-1 ┐ Tile\n",
      "          │ │          └───────\n",
      "          │ ├ tile-1-1 ┐ Tile\n",
      "          │ │          └───────\n",
      "          │ ├ tile-2-1 ┐ Tile\n",
      "          │ │          │\n",
      "          │ │          │ └ straight ┐ PlacedObject\n",
      "          │ │          │            │\n",
      "          │ │          │            │ ├ lane1 ┐ LaneSegment\n",
      "          │ │          │            │ │       └──────────────\n",
      "          │ │          │            │ └ lane2 ┐ LaneSegment\n",
      "          │ │          │            │         └──────────────\n",
      "          │ │          │            └──────────────────────────\n",
      "          │ │          └─────────────────────────────────────────\n",
      "          │ ├ tile-3-1 ┐ Tile\n",
      "          │ │          └───────\n",
      "          │ ├ tile-4-1 ┐ Tile\n",
      "          │ │          └───────\n",
      "          │ ├ tile-5-1 ┐ Tile\n",
      "          │ │          │\n",
      "          │ │          │ └ straight ┐ PlacedObject\n",
      "          │ │          │            │\n",
      "          │ │          │            │ ├ lane1 ┐ LaneSegment\n",
      "          │ │          │            │ │       └──────────────\n",
      "          │ │          │            │ └ lane2 ┐ LaneSegment\n",
      "          │ │          │            │         └──────────────\n",
      "          │ │          │            └──────────────────────────\n",
      "          │ │          └─────────────────────────────────────────\n",
      "          │ ├ tile-0-0 ┐ Tile\n",
      "          │ │          └───────\n",
      "          │ ├ tile-1-0 ┐ Tile\n",
      "          │ │          └───────\n",
      "          │ ├ tile-2-0 ┐ Tile\n",
      "          │ │          │\n",
      "          │ │          │ └ curve_right ┐ PlacedObject\n",
      "          │ │          │               │\n",
      "          │ │          │               │ ├ lane1 ┐ LaneSegment\n",
      "          │ │          │               │ │       └──────────────\n",
      "          │ │          │               │ └ lane2 ┐ LaneSegment\n",
      "          │ │          │               │         └──────────────\n",
      "          │ │          │               └──────────────────────────\n",
      "          │ │          └────────────────────────────────────────────\n",
      "          │ ├ tile-3-0 ┐ Tile\n",
      "          │ │          │\n",
      "          │ │          │ └ straight ┐ PlacedObject\n",
      "          │ │          │            │\n",
      "          │ │          │            │ ├ lane1 ┐ LaneSegment\n",
      "          │ │          │            │ │       └──────────────\n",
      "          │ │          │            │ └ lane2 ┐ LaneSegment\n",
      "          │ │          │            │         └──────────────\n",
      "          │ │          │            └──────────────────────────\n",
      "          │ │          └─────────────────────────────────────────\n",
      "          │ ├ tile-4-0 ┐ Tile\n",
      "          │ │          │\n",
      "          │ │          │ └ straight ┐ PlacedObject\n",
      "          │ │          │            │\n",
      "          │ │          │            │ ├ lane1 ┐ LaneSegment\n",
      "          │ │          │            │ │       └──────────────\n",
      "          │ │          │            │ └ lane2 ┐ LaneSegment\n",
      "          │ │          │            │         └──────────────\n",
      "          │ │          │            └──────────────────────────\n",
      "          │ │          └─────────────────────────────────────────\n",
      "          │ └ tile-5-0 ┐ Tile\n",
      "          │            │\n",
      "          │            │ └ curve_right ┐ PlacedObject\n",
      "          │            │               │\n",
      "          │            │               │ ├ lane1 ┐ LaneSegment\n",
      "          │            │               │ │       └──────────────\n",
      "          │            │               │ └ lane2 ┐ LaneSegment\n",
      "          │            │               │         └──────────────\n",
      "          │            │               └──────────────────────────\n",
      "          │            └────────────────────────────────────────────\n",
      "          └────────────────────────────────────────────────────────────────────\n"
     ]
    }
   ],
   "source": [
    "print(dw.get_object_tree(m, levels=4))"
   ]
  },
  {
   "cell_type": "markdown",
   "metadata": {},
   "source": [
    "The children are available in the `children` variable:"
   ]
  },
  {
   "cell_type": "code",
   "execution_count": 96,
   "metadata": {},
   "outputs": [
    {
     "data": {
      "text/plain": [
       "{'tilemap': TileMap(children={'tile-0-5': Tile(children={'curve_left': PlacedObject(children={'curve': PlacedObject(children={'lane1': LaneSegment(children={}, spatial_relations={}), 'lane2': LaneSegment(children={}, spatial_relations={})}, spatial_relations={'lane1': GroundTruth(() -> ('lane1',)  SE2Transform([0.0, 0.0],0.0)), 'lane2': GroundTruth(() -> ('lane2',)  SE2Transform([0.0, 0.0],1.5707963267948966))})}, spatial_relations={'curve': GroundTruth(() -> ('curve',)  SE2Transform([0.0, 0.0],4.71238898038469))})}, spatial_relations={1: GroundTruth(() -> ('curve_left',)  SE2Transform([0.0, 0.0],0.0))}), 'tile-1-5': Tile(children={'straight': PlacedObject(children={'lane1': LaneSegment(children={}, spatial_relations={}), 'lane2': LaneSegment(children={}, spatial_relations={})}, spatial_relations={'lane1': GroundTruth(() -> ('lane1',)  SE2Transform([0.0, 0.0],0.0)), 'lane2': GroundTruth(() -> ('lane2',)  SE2Transform([0.0, 0.0],3.141592653589793))})}, spatial_relations={1: GroundTruth(() -> ('straight',)  SE2Transform([0.0, 0.0],0.0))}), 'tile-2-5': Tile(children={'3way_left': PlacedObject(children={'west_go_straight': LaneSegment(children={}, spatial_relations={}), 'west_go_left': LaneSegment(children={}, spatial_relations={}), 'north_go_left': LaneSegment(children={}, spatial_relations={}), 'north_go_right': LaneSegment(children={}, spatial_relations={}), 'east_go_right': LaneSegment(children={}, spatial_relations={}), 'east_go_straight': LaneSegment(children={}, spatial_relations={})}, spatial_relations={'west_go_straight': GroundTruth(() -> ('west_go_straight',)  SE2Transform([0.0, 0.0],0.0)), 'west_go_left': GroundTruth(() -> ('west_go_left',)  SE2Transform([0.0, 0.0],0.0)), 'north_go_left': GroundTruth(() -> ('north_go_left',)  SE2Transform([0.0, 0.0],-1.5707963267948966)), 'north_go_right': GroundTruth(() -> ('north_go_right',)  SE2Transform([0.0, 0.0],-1.5707963267948966)), 'east_go_right': GroundTruth(() -> ('east_go_right',)  SE2Transform([0.0, 0.0],3.141592653589793)), 'east_go_straight': GroundTruth(() -> ('east_go_straight',)  SE2Transform([0.0, 0.0],3.141592653589793))})}, spatial_relations={1: GroundTruth(() -> ('3way_left',)  SE2Transform([0.0, 0.0],0.0))}), 'tile-3-5': Tile(children={'straight': PlacedObject(children={'lane1': LaneSegment(children={}, spatial_relations={}), 'lane2': LaneSegment(children={}, spatial_relations={})}, spatial_relations={'lane1': GroundTruth(() -> ('lane1',)  SE2Transform([0.0, 0.0],0.0)), 'lane2': GroundTruth(() -> ('lane2',)  SE2Transform([0.0, 0.0],3.141592653589793))})}, spatial_relations={1: GroundTruth(() -> ('straight',)  SE2Transform([0.0, 0.0],0.0))}), 'tile-4-5': Tile(children={'curve_left': PlacedObject(children={'curve': PlacedObject(children={'lane1': LaneSegment(children={}, spatial_relations={}), 'lane2': LaneSegment(children={}, spatial_relations={})}, spatial_relations={'lane1': GroundTruth(() -> ('lane1',)  SE2Transform([0.0, 0.0],0.0)), 'lane2': GroundTruth(() -> ('lane2',)  SE2Transform([0.0, 0.0],1.5707963267948966))})}, spatial_relations={'curve': GroundTruth(() -> ('curve',)  SE2Transform([0.0, 0.0],4.71238898038469))})}, spatial_relations={1: GroundTruth(() -> ('curve_left',)  SE2Transform([0.0, 0.0],0.0))}), 'tile-5-5': Tile(children={}, spatial_relations={}), 'tile-0-4': Tile(children={'straight': PlacedObject(children={'lane1': LaneSegment(children={}, spatial_relations={}), 'lane2': LaneSegment(children={}, spatial_relations={})}, spatial_relations={'lane1': GroundTruth(() -> ('lane1',)  SE2Transform([0.0, 0.0],0.0)), 'lane2': GroundTruth(() -> ('lane2',)  SE2Transform([0.0, 0.0],3.141592653589793))})}, spatial_relations={1: GroundTruth(() -> ('straight',)  SE2Transform([0.0, 0.0],0.0))}), 'tile-1-4': Tile(children={}, spatial_relations={}), 'tile-2-4': Tile(children={'straight': PlacedObject(children={'lane1': LaneSegment(children={}, spatial_relations={}), 'lane2': LaneSegment(children={}, spatial_relations={})}, spatial_relations={'lane1': GroundTruth(() -> ('lane1',)  SE2Transform([0.0, 0.0],0.0)), 'lane2': GroundTruth(() -> ('lane2',)  SE2Transform([0.0, 0.0],3.141592653589793))})}, spatial_relations={1: GroundTruth(() -> ('straight',)  SE2Transform([0.0, 0.0],0.0))}), 'tile-3-4': Tile(children={}, spatial_relations={}), 'tile-4-4': Tile(children={'curve_left': PlacedObject(children={'curve': PlacedObject(children={'lane1': LaneSegment(children={}, spatial_relations={}), 'lane2': LaneSegment(children={}, spatial_relations={})}, spatial_relations={'lane1': GroundTruth(() -> ('lane1',)  SE2Transform([0.0, 0.0],0.0)), 'lane2': GroundTruth(() -> ('lane2',)  SE2Transform([0.0, 0.0],1.5707963267948966))})}, spatial_relations={'curve': GroundTruth(() -> ('curve',)  SE2Transform([0.0, 0.0],4.71238898038469))})}, spatial_relations={1: GroundTruth(() -> ('curve_left',)  SE2Transform([0.0, 0.0],0.0))}), 'tile-5-4': Tile(children={'curve_left': PlacedObject(children={'curve': PlacedObject(children={'lane1': LaneSegment(children={}, spatial_relations={}), 'lane2': LaneSegment(children={}, spatial_relations={})}, spatial_relations={'lane1': GroundTruth(() -> ('lane1',)  SE2Transform([0.0, 0.0],0.0)), 'lane2': GroundTruth(() -> ('lane2',)  SE2Transform([0.0, 0.0],1.5707963267948966))})}, spatial_relations={'curve': GroundTruth(() -> ('curve',)  SE2Transform([0.0, 0.0],4.71238898038469))})}, spatial_relations={1: GroundTruth(() -> ('curve_left',)  SE2Transform([0.0, 0.0],0.0))}), 'tile-0-3': Tile(children={'straight': PlacedObject(children={'lane1': LaneSegment(children={}, spatial_relations={}), 'lane2': LaneSegment(children={}, spatial_relations={})}, spatial_relations={'lane1': GroundTruth(() -> ('lane1',)  SE2Transform([0.0, 0.0],0.0)), 'lane2': GroundTruth(() -> ('lane2',)  SE2Transform([0.0, 0.0],3.141592653589793))})}, spatial_relations={1: GroundTruth(() -> ('straight',)  SE2Transform([0.0, 0.0],0.0))}), 'tile-1-3': Tile(children={}, spatial_relations={}), 'tile-2-3': Tile(children={'straight': PlacedObject(children={'lane1': LaneSegment(children={}, spatial_relations={}), 'lane2': LaneSegment(children={}, spatial_relations={})}, spatial_relations={'lane1': GroundTruth(() -> ('lane1',)  SE2Transform([0.0, 0.0],0.0)), 'lane2': GroundTruth(() -> ('lane2',)  SE2Transform([0.0, 0.0],3.141592653589793))})}, spatial_relations={1: GroundTruth(() -> ('straight',)  SE2Transform([0.0, 0.0],0.0))}), 'tile-3-3': Tile(children={}, spatial_relations={}), 'tile-4-3': Tile(children={}, spatial_relations={}), 'tile-5-3': Tile(children={'straight': PlacedObject(children={'lane1': LaneSegment(children={}, spatial_relations={}), 'lane2': LaneSegment(children={}, spatial_relations={})}, spatial_relations={'lane1': GroundTruth(() -> ('lane1',)  SE2Transform([0.0, 0.0],0.0)), 'lane2': GroundTruth(() -> ('lane2',)  SE2Transform([0.0, 0.0],3.141592653589793))})}, spatial_relations={1: GroundTruth(() -> ('straight',)  SE2Transform([0.0, 0.0],0.0))}), 'tile-0-2': Tile(children={'curve_right': PlacedObject(children={'lane1': LaneSegment(children={}, spatial_relations={}), 'lane2': LaneSegment(children={}, spatial_relations={})}, spatial_relations={'lane1': GroundTruth(() -> ('lane1',)  SE2Transform([0.0, 0.0],0.0)), 'lane2': GroundTruth(() -> ('lane2',)  SE2Transform([0.0, 0.0],1.5707963267948966))})}, spatial_relations={1: GroundTruth(() -> ('curve_right',)  SE2Transform([0.0, 0.0],0.0))}), 'tile-1-2': Tile(children={'straight': PlacedObject(children={'lane1': LaneSegment(children={}, spatial_relations={}), 'lane2': LaneSegment(children={}, spatial_relations={})}, spatial_relations={'lane1': GroundTruth(() -> ('lane1',)  SE2Transform([0.0, 0.0],0.0)), 'lane2': GroundTruth(() -> ('lane2',)  SE2Transform([0.0, 0.0],3.141592653589793))})}, spatial_relations={1: GroundTruth(() -> ('straight',)  SE2Transform([0.0, 0.0],0.0))}), 'tile-2-2': Tile(children={'4way': PlacedObject(children={'a': PlacedObject(children={'go_right': LaneSegment(children={}, spatial_relations={}), 'go_left': LaneSegment(children={}, spatial_relations={}), 'go_straight': LaneSegment(children={}, spatial_relations={})}, spatial_relations={'go_right': GroundTruth(() -> ('go_right',)  SE2Transform([0.0, 0.0],0.0)), 'go_left': GroundTruth(() -> ('go_left',)  SE2Transform([0.0, 0.0],0.0)), 'go_straight': GroundTruth(() -> ('go_straight',)  SE2Transform([0.0, 0.0],0.0))}), 'b': PlacedObject(children={'go_right': LaneSegment(children={}, spatial_relations={}), 'go_left': LaneSegment(children={}, spatial_relations={}), 'go_straight': LaneSegment(children={}, spatial_relations={})}, spatial_relations={'go_right': GroundTruth(() -> ('go_right',)  SE2Transform([0.0, 0.0],0.0)), 'go_left': GroundTruth(() -> ('go_left',)  SE2Transform([0.0, 0.0],0.0)), 'go_straight': GroundTruth(() -> ('go_straight',)  SE2Transform([0.0, 0.0],0.0))}), 'c': PlacedObject(children={'go_right': LaneSegment(children={}, spatial_relations={}), 'go_left': LaneSegment(children={}, spatial_relations={}), 'go_straight': LaneSegment(children={}, spatial_relations={})}, spatial_relations={'go_right': GroundTruth(() -> ('go_right',)  SE2Transform([0.0, 0.0],0.0)), 'go_left': GroundTruth(() -> ('go_left',)  SE2Transform([0.0, 0.0],0.0)), 'go_straight': GroundTruth(() -> ('go_straight',)  SE2Transform([0.0, 0.0],0.0))}), 'd': PlacedObject(children={'go_right': LaneSegment(children={}, spatial_relations={}), 'go_left': LaneSegment(children={}, spatial_relations={}), 'go_straight': LaneSegment(children={}, spatial_relations={})}, spatial_relations={'go_right': GroundTruth(() -> ('go_right',)  SE2Transform([0.0, 0.0],0.0)), 'go_left': GroundTruth(() -> ('go_left',)  SE2Transform([0.0, 0.0],0.0)), 'go_straight': GroundTruth(() -> ('go_straight',)  SE2Transform([0.0, 0.0],0.0))})}, spatial_relations={'a': GroundTruth(() -> ('a',)  SE2Transform([0.0, 0.0],0.0)), 'b': GroundTruth(() -> ('b',)  SE2Transform([0.0, 0.0],1.5707963267948966)), 'c': GroundTruth(() -> ('c',)  SE2Transform([0.0, 0.0],3.141592653589793)), 'd': GroundTruth(() -> ('d',)  SE2Transform([0.0, 0.0],4.71238898038469))})}, spatial_relations={1: GroundTruth(() -> ('4way',)  SE2Transform([0.0, 0.0],0.0))}), 'tile-3-2': Tile(children={'straight': PlacedObject(children={'lane1': LaneSegment(children={}, spatial_relations={}), 'lane2': LaneSegment(children={}, spatial_relations={})}, spatial_relations={'lane1': GroundTruth(() -> ('lane1',)  SE2Transform([0.0, 0.0],0.0)), 'lane2': GroundTruth(() -> ('lane2',)  SE2Transform([0.0, 0.0],3.141592653589793))})}, spatial_relations={1: GroundTruth(() -> ('straight',)  SE2Transform([0.0, 0.0],0.0))}), 'tile-4-2': Tile(children={'straight': PlacedObject(children={'lane1': LaneSegment(children={}, spatial_relations={}), 'lane2': LaneSegment(children={}, spatial_relations={})}, spatial_relations={'lane1': GroundTruth(() -> ('lane1',)  SE2Transform([0.0, 0.0],0.0)), 'lane2': GroundTruth(() -> ('lane2',)  SE2Transform([0.0, 0.0],3.141592653589793))})}, spatial_relations={1: GroundTruth(() -> ('straight',)  SE2Transform([0.0, 0.0],0.0))}), 'tile-5-2': Tile(children={'3way_left': PlacedObject(children={'west_go_straight': LaneSegment(children={}, spatial_relations={}), 'west_go_left': LaneSegment(children={}, spatial_relations={}), 'north_go_left': LaneSegment(children={}, spatial_relations={}), 'north_go_right': LaneSegment(children={}, spatial_relations={}), 'east_go_right': LaneSegment(children={}, spatial_relations={}), 'east_go_straight': LaneSegment(children={}, spatial_relations={})}, spatial_relations={'west_go_straight': GroundTruth(() -> ('west_go_straight',)  SE2Transform([0.0, 0.0],0.0)), 'west_go_left': GroundTruth(() -> ('west_go_left',)  SE2Transform([0.0, 0.0],0.0)), 'north_go_left': GroundTruth(() -> ('north_go_left',)  SE2Transform([0.0, 0.0],-1.5707963267948966)), 'north_go_right': GroundTruth(() -> ('north_go_right',)  SE2Transform([0.0, 0.0],-1.5707963267948966)), 'east_go_right': GroundTruth(() -> ('east_go_right',)  SE2Transform([0.0, 0.0],3.141592653589793)), 'east_go_straight': GroundTruth(() -> ('east_go_straight',)  SE2Transform([0.0, 0.0],3.141592653589793))})}, spatial_relations={1: GroundTruth(() -> ('3way_left',)  SE2Transform([0.0, 0.0],0.0))}), 'tile-0-1': Tile(children={}, spatial_relations={}), 'tile-1-1': Tile(children={}, spatial_relations={}), 'tile-2-1': Tile(children={'straight': PlacedObject(children={'lane1': LaneSegment(children={}, spatial_relations={}), 'lane2': LaneSegment(children={}, spatial_relations={})}, spatial_relations={'lane1': GroundTruth(() -> ('lane1',)  SE2Transform([0.0, 0.0],0.0)), 'lane2': GroundTruth(() -> ('lane2',)  SE2Transform([0.0, 0.0],3.141592653589793))})}, spatial_relations={1: GroundTruth(() -> ('straight',)  SE2Transform([0.0, 0.0],0.0))}), 'tile-3-1': Tile(children={}, spatial_relations={}), 'tile-4-1': Tile(children={}, spatial_relations={}), 'tile-5-1': Tile(children={'straight': PlacedObject(children={'lane1': LaneSegment(children={}, spatial_relations={}), 'lane2': LaneSegment(children={}, spatial_relations={})}, spatial_relations={'lane1': GroundTruth(() -> ('lane1',)  SE2Transform([0.0, 0.0],0.0)), 'lane2': GroundTruth(() -> ('lane2',)  SE2Transform([0.0, 0.0],3.141592653589793))})}, spatial_relations={1: GroundTruth(() -> ('straight',)  SE2Transform([0.0, 0.0],0.0))}), 'tile-0-0': Tile(children={}, spatial_relations={}), 'tile-1-0': Tile(children={}, spatial_relations={}), 'tile-2-0': Tile(children={'curve_right': PlacedObject(children={'lane1': LaneSegment(children={}, spatial_relations={}), 'lane2': LaneSegment(children={}, spatial_relations={})}, spatial_relations={'lane1': GroundTruth(() -> ('lane1',)  SE2Transform([0.0, 0.0],0.0)), 'lane2': GroundTruth(() -> ('lane2',)  SE2Transform([0.0, 0.0],1.5707963267948966))})}, spatial_relations={1: GroundTruth(() -> ('curve_right',)  SE2Transform([0.0, 0.0],0.0))}), 'tile-3-0': Tile(children={'straight': PlacedObject(children={'lane1': LaneSegment(children={}, spatial_relations={}), 'lane2': LaneSegment(children={}, spatial_relations={})}, spatial_relations={'lane1': GroundTruth(() -> ('lane1',)  SE2Transform([0.0, 0.0],0.0)), 'lane2': GroundTruth(() -> ('lane2',)  SE2Transform([0.0, 0.0],3.141592653589793))})}, spatial_relations={1: GroundTruth(() -> ('straight',)  SE2Transform([0.0, 0.0],0.0))}), 'tile-4-0': Tile(children={'straight': PlacedObject(children={'lane1': LaneSegment(children={}, spatial_relations={}), 'lane2': LaneSegment(children={}, spatial_relations={})}, spatial_relations={'lane1': GroundTruth(() -> ('lane1',)  SE2Transform([0.0, 0.0],0.0)), 'lane2': GroundTruth(() -> ('lane2',)  SE2Transform([0.0, 0.0],3.141592653589793))})}, spatial_relations={1: GroundTruth(() -> ('straight',)  SE2Transform([0.0, 0.0],0.0))}), 'tile-5-0': Tile(children={'curve_right': PlacedObject(children={'lane1': LaneSegment(children={}, spatial_relations={}), 'lane2': LaneSegment(children={}, spatial_relations={})}, spatial_relations={'lane1': GroundTruth(() -> ('lane1',)  SE2Transform([0.0, 0.0],0.0)), 'lane2': GroundTruth(() -> ('lane2',)  SE2Transform([0.0, 0.0],1.5707963267948966))})}, spatial_relations={1: GroundTruth(() -> ('curve_right',)  SE2Transform([0.0, 0.0],0.0))})}, spatial_relations={0: GroundTruth(() -> ('tile-0-5',)  TileCoords(i=0,j=5,orientation=W)), 1: GroundTruth(() -> ('tile-1-5',)  TileCoords(i=1,j=5,orientation=W)), 2: GroundTruth(() -> ('tile-2-5',)  TileCoords(i=2,j=5,orientation=W)), 3: GroundTruth(() -> ('tile-3-5',)  TileCoords(i=3,j=5,orientation=W)), 4: GroundTruth(() -> ('tile-4-5',)  TileCoords(i=4,j=5,orientation=N)), 5: GroundTruth(() -> ('tile-5-5',)  TileCoords(i=5,j=5,orientation=E)), 6: GroundTruth(() -> ('tile-0-4',)  TileCoords(i=0,j=4,orientation=S)), 7: GroundTruth(() -> ('tile-1-4',)  TileCoords(i=1,j=4,orientation=E)), 8: GroundTruth(() -> ('tile-2-4',)  TileCoords(i=2,j=4,orientation=S)), 9: GroundTruth(() -> ('tile-3-4',)  TileCoords(i=3,j=4,orientation=E)), 10: GroundTruth(() -> ('tile-4-4',)  TileCoords(i=4,j=4,orientation=S)), 11: GroundTruth(() -> ('tile-5-4',)  TileCoords(i=5,j=4,orientation=N)), 12: GroundTruth(() -> ('tile-0-3',)  TileCoords(i=0,j=3,orientation=S)), 13: GroundTruth(() -> ('tile-1-3',)  TileCoords(i=1,j=3,orientation=E)), 14: GroundTruth(() -> ('tile-2-3',)  TileCoords(i=2,j=3,orientation=S)), 15: GroundTruth(() -> ('tile-3-3',)  TileCoords(i=3,j=3,orientation=E)), 16: GroundTruth(() -> ('tile-4-3',)  TileCoords(i=4,j=3,orientation=E)), 17: GroundTruth(() -> ('tile-5-3',)  TileCoords(i=5,j=3,orientation=S)), 18: GroundTruth(() -> ('tile-0-2',)  TileCoords(i=0,j=2,orientation=W)), 19: GroundTruth(() -> ('tile-1-2',)  TileCoords(i=1,j=2,orientation=W)), 20: GroundTruth(() -> ('tile-2-2',)  TileCoords(i=2,j=2,orientation=W)), 21: GroundTruth(() -> ('tile-3-2',)  TileCoords(i=3,j=2,orientation=W)), 22: GroundTruth(() -> ('tile-4-2',)  TileCoords(i=4,j=2,orientation=W)), 23: GroundTruth(() -> ('tile-5-2',)  TileCoords(i=5,j=2,orientation=N)), 24: GroundTruth(() -> ('tile-0-1',)  TileCoords(i=0,j=1,orientation=E)), 25: GroundTruth(() -> ('tile-1-1',)  TileCoords(i=1,j=1,orientation=E)), 26: GroundTruth(() -> ('tile-2-1',)  TileCoords(i=2,j=1,orientation=S)), 27: GroundTruth(() -> ('tile-3-1',)  TileCoords(i=3,j=1,orientation=E)), 28: GroundTruth(() -> ('tile-4-1',)  TileCoords(i=4,j=1,orientation=E)), 29: GroundTruth(() -> ('tile-5-1',)  TileCoords(i=5,j=1,orientation=S)), 30: GroundTruth(() -> ('tile-0-0',)  TileCoords(i=0,j=0,orientation=E)), 31: GroundTruth(() -> ('tile-1-0',)  TileCoords(i=1,j=0,orientation=E)), 32: GroundTruth(() -> ('tile-2-0',)  TileCoords(i=2,j=0,orientation=W)), 33: GroundTruth(() -> ('tile-3-0',)  TileCoords(i=3,j=0,orientation=W)), 34: GroundTruth(() -> ('tile-4-0',)  TileCoords(i=4,j=0,orientation=W)), 35: GroundTruth(() -> ('tile-5-0',)  TileCoords(i=5,j=0,orientation=S))})}"
      ]
     },
     "execution_count": 96,
     "metadata": {},
     "output_type": "execute_result"
    }
   ],
   "source": [
    "m.children"
   ]
  },
  {
   "cell_type": "code",
   "execution_count": 63,
   "metadata": {
    "scrolled": false
   },
   "outputs": [
    {
     "data": {
      "text/plain": [
       "{'tile-0-4': Tile(children={'curve_left': PlacedObject(children={'curve': PlacedObject(children={'lane1': LaneSegment(children={}, spatial_relations={}), 'lane2': LaneSegment(children={}, spatial_relations={})}, spatial_relations={'lane1': GroundTruth(() -> ('lane1',)  SE2Transform([0.0, 0.0],0.0)), 'lane2': GroundTruth(() -> ('lane2',)  SE2Transform([0.0, 0.0],1.5707963267948966))})}, spatial_relations={'curve': GroundTruth(() -> ('curve',)  SE2Transform([0.0, 0.0],4.71238898038469))})}, spatial_relations={1: GroundTruth(() -> ('curve_left',)  SE2Transform([0.0, 0.0],0.0))}),\n",
       " 'tile-1-4': Tile(children={'straight': PlacedObject(children={'lane1': LaneSegment(children={}, spatial_relations={}), 'lane2': LaneSegment(children={}, spatial_relations={})}, spatial_relations={'lane1': GroundTruth(() -> ('lane1',)  SE2Transform([0.0, 0.0],0.0)), 'lane2': GroundTruth(() -> ('lane2',)  SE2Transform([0.0, 0.0],3.141592653589793))})}, spatial_relations={1: GroundTruth(() -> ('straight',)  SE2Transform([0.0, 0.0],0.0))}),\n",
       " 'tile-2-4': Tile(children={'3way_left': PlacedObject(children={'west_go_straight': LaneSegment(children={}, spatial_relations={}), 'west_go_left': LaneSegment(children={}, spatial_relations={}), 'north_go_left': LaneSegment(children={}, spatial_relations={}), 'north_go_right': LaneSegment(children={}, spatial_relations={}), 'east_go_right': LaneSegment(children={}, spatial_relations={}), 'east_go_straight': LaneSegment(children={}, spatial_relations={})}, spatial_relations={'west_go_straight': GroundTruth(() -> ('west_go_straight',)  SE2Transform([0.0, 0.0],0.0)), 'west_go_left': GroundTruth(() -> ('west_go_left',)  SE2Transform([0.0, 0.0],0.0)), 'north_go_left': GroundTruth(() -> ('north_go_left',)  SE2Transform([0.0, 0.0],-1.5707963267948966)), 'north_go_right': GroundTruth(() -> ('north_go_right',)  SE2Transform([0.0, 0.0],-1.5707963267948966)), 'east_go_right': GroundTruth(() -> ('east_go_right',)  SE2Transform([0.0, 0.0],3.141592653589793)), 'east_go_straight': GroundTruth(() -> ('east_go_straight',)  SE2Transform([0.0, 0.0],3.141592653589793))})}, spatial_relations={1: GroundTruth(() -> ('3way_left',)  SE2Transform([0.0, 0.0],0.0))}),\n",
       " 'tile-3-4': Tile(children={'straight': PlacedObject(children={'lane1': LaneSegment(children={}, spatial_relations={}), 'lane2': LaneSegment(children={}, spatial_relations={})}, spatial_relations={'lane1': GroundTruth(() -> ('lane1',)  SE2Transform([0.0, 0.0],0.0)), 'lane2': GroundTruth(() -> ('lane2',)  SE2Transform([0.0, 0.0],3.141592653589793))})}, spatial_relations={1: GroundTruth(() -> ('straight',)  SE2Transform([0.0, 0.0],0.0))}),\n",
       " 'tile-4-4': Tile(children={'curve_left': PlacedObject(children={'curve': PlacedObject(children={'lane1': LaneSegment(children={}, spatial_relations={}), 'lane2': LaneSegment(children={}, spatial_relations={})}, spatial_relations={'lane1': GroundTruth(() -> ('lane1',)  SE2Transform([0.0, 0.0],0.0)), 'lane2': GroundTruth(() -> ('lane2',)  SE2Transform([0.0, 0.0],1.5707963267948966))})}, spatial_relations={'curve': GroundTruth(() -> ('curve',)  SE2Transform([0.0, 0.0],4.71238898038469))})}, spatial_relations={1: GroundTruth(() -> ('curve_left',)  SE2Transform([0.0, 0.0],0.0))}),\n",
       " 'tile-0-3': Tile(children={'straight': PlacedObject(children={'lane1': LaneSegment(children={}, spatial_relations={}), 'lane2': LaneSegment(children={}, spatial_relations={})}, spatial_relations={'lane1': GroundTruth(() -> ('lane1',)  SE2Transform([0.0, 0.0],0.0)), 'lane2': GroundTruth(() -> ('lane2',)  SE2Transform([0.0, 0.0],3.141592653589793))})}, spatial_relations={1: GroundTruth(() -> ('straight',)  SE2Transform([0.0, 0.0],0.0))}),\n",
       " 'tile-1-3': Tile(children={}, spatial_relations={}),\n",
       " 'tile-2-3': Tile(children={'straight': PlacedObject(children={'lane1': LaneSegment(children={}, spatial_relations={}), 'lane2': LaneSegment(children={}, spatial_relations={})}, spatial_relations={'lane1': GroundTruth(() -> ('lane1',)  SE2Transform([0.0, 0.0],0.0)), 'lane2': GroundTruth(() -> ('lane2',)  SE2Transform([0.0, 0.0],3.141592653589793))})}, spatial_relations={1: GroundTruth(() -> ('straight',)  SE2Transform([0.0, 0.0],0.0))}),\n",
       " 'tile-3-3': Tile(children={}, spatial_relations={}),\n",
       " 'tile-4-3': Tile(children={'straight': PlacedObject(children={'lane1': LaneSegment(children={}, spatial_relations={}), 'lane2': LaneSegment(children={}, spatial_relations={})}, spatial_relations={'lane1': GroundTruth(() -> ('lane1',)  SE2Transform([0.0, 0.0],0.0)), 'lane2': GroundTruth(() -> ('lane2',)  SE2Transform([0.0, 0.0],3.141592653589793))})}, spatial_relations={1: GroundTruth(() -> ('straight',)  SE2Transform([0.0, 0.0],0.0))}),\n",
       " 'tile-0-2': Tile(children={'3way_left': PlacedObject(children={'west_go_straight': LaneSegment(children={}, spatial_relations={}), 'west_go_left': LaneSegment(children={}, spatial_relations={}), 'north_go_left': LaneSegment(children={}, spatial_relations={}), 'north_go_right': LaneSegment(children={}, spatial_relations={}), 'east_go_right': LaneSegment(children={}, spatial_relations={}), 'east_go_straight': LaneSegment(children={}, spatial_relations={})}, spatial_relations={'west_go_straight': GroundTruth(() -> ('west_go_straight',)  SE2Transform([0.0, 0.0],0.0)), 'west_go_left': GroundTruth(() -> ('west_go_left',)  SE2Transform([0.0, 0.0],0.0)), 'north_go_left': GroundTruth(() -> ('north_go_left',)  SE2Transform([0.0, 0.0],-1.5707963267948966)), 'north_go_right': GroundTruth(() -> ('north_go_right',)  SE2Transform([0.0, 0.0],-1.5707963267948966)), 'east_go_right': GroundTruth(() -> ('east_go_right',)  SE2Transform([0.0, 0.0],3.141592653589793)), 'east_go_straight': GroundTruth(() -> ('east_go_straight',)  SE2Transform([0.0, 0.0],3.141592653589793))})}, spatial_relations={1: GroundTruth(() -> ('3way_left',)  SE2Transform([0.0, 0.0],0.0))}),\n",
       " 'tile-1-2': Tile(children={'straight': PlacedObject(children={'lane1': LaneSegment(children={}, spatial_relations={}), 'lane2': LaneSegment(children={}, spatial_relations={})}, spatial_relations={'lane1': GroundTruth(() -> ('lane1',)  SE2Transform([0.0, 0.0],0.0)), 'lane2': GroundTruth(() -> ('lane2',)  SE2Transform([0.0, 0.0],3.141592653589793))})}, spatial_relations={1: GroundTruth(() -> ('straight',)  SE2Transform([0.0, 0.0],0.0))}),\n",
       " 'tile-2-2': Tile(children={'4way': PlacedObject(children={'a': PlacedObject(children={'go_right': LaneSegment(children={}, spatial_relations={}), 'go_left': LaneSegment(children={}, spatial_relations={}), 'go_straight': LaneSegment(children={}, spatial_relations={})}, spatial_relations={'go_right': GroundTruth(() -> ('go_right',)  SE2Transform([0.0, 0.0],0.0)), 'go_left': GroundTruth(() -> ('go_left',)  SE2Transform([0.0, 0.0],0.0)), 'go_straight': GroundTruth(() -> ('go_straight',)  SE2Transform([0.0, 0.0],0.0))}), 'b': PlacedObject(children={'go_right': LaneSegment(children={}, spatial_relations={}), 'go_left': LaneSegment(children={}, spatial_relations={}), 'go_straight': LaneSegment(children={}, spatial_relations={})}, spatial_relations={'go_right': GroundTruth(() -> ('go_right',)  SE2Transform([0.0, 0.0],0.0)), 'go_left': GroundTruth(() -> ('go_left',)  SE2Transform([0.0, 0.0],0.0)), 'go_straight': GroundTruth(() -> ('go_straight',)  SE2Transform([0.0, 0.0],0.0))}), 'c': PlacedObject(children={'go_right': LaneSegment(children={}, spatial_relations={}), 'go_left': LaneSegment(children={}, spatial_relations={}), 'go_straight': LaneSegment(children={}, spatial_relations={})}, spatial_relations={'go_right': GroundTruth(() -> ('go_right',)  SE2Transform([0.0, 0.0],0.0)), 'go_left': GroundTruth(() -> ('go_left',)  SE2Transform([0.0, 0.0],0.0)), 'go_straight': GroundTruth(() -> ('go_straight',)  SE2Transform([0.0, 0.0],0.0))}), 'd': PlacedObject(children={'go_right': LaneSegment(children={}, spatial_relations={}), 'go_left': LaneSegment(children={}, spatial_relations={}), 'go_straight': LaneSegment(children={}, spatial_relations={})}, spatial_relations={'go_right': GroundTruth(() -> ('go_right',)  SE2Transform([0.0, 0.0],0.0)), 'go_left': GroundTruth(() -> ('go_left',)  SE2Transform([0.0, 0.0],0.0)), 'go_straight': GroundTruth(() -> ('go_straight',)  SE2Transform([0.0, 0.0],0.0))})}, spatial_relations={'a': GroundTruth(() -> ('a',)  SE2Transform([0.0, 0.0],0.0)), 'b': GroundTruth(() -> ('b',)  SE2Transform([0.0, 0.0],1.5707963267948966)), 'c': GroundTruth(() -> ('c',)  SE2Transform([0.0, 0.0],3.141592653589793)), 'd': GroundTruth(() -> ('d',)  SE2Transform([0.0, 0.0],4.71238898038469))})}, spatial_relations={1: GroundTruth(() -> ('4way',)  SE2Transform([0.0, 0.0],0.0))}),\n",
       " 'tile-3-2': Tile(children={'straight': PlacedObject(children={'lane1': LaneSegment(children={}, spatial_relations={}), 'lane2': LaneSegment(children={}, spatial_relations={})}, spatial_relations={'lane1': GroundTruth(() -> ('lane1',)  SE2Transform([0.0, 0.0],0.0)), 'lane2': GroundTruth(() -> ('lane2',)  SE2Transform([0.0, 0.0],3.141592653589793))})}, spatial_relations={1: GroundTruth(() -> ('straight',)  SE2Transform([0.0, 0.0],0.0))}),\n",
       " 'tile-4-2': Tile(children={'3way_left': PlacedObject(children={'west_go_straight': LaneSegment(children={}, spatial_relations={}), 'west_go_left': LaneSegment(children={}, spatial_relations={}), 'north_go_left': LaneSegment(children={}, spatial_relations={}), 'north_go_right': LaneSegment(children={}, spatial_relations={}), 'east_go_right': LaneSegment(children={}, spatial_relations={}), 'east_go_straight': LaneSegment(children={}, spatial_relations={})}, spatial_relations={'west_go_straight': GroundTruth(() -> ('west_go_straight',)  SE2Transform([0.0, 0.0],0.0)), 'west_go_left': GroundTruth(() -> ('west_go_left',)  SE2Transform([0.0, 0.0],0.0)), 'north_go_left': GroundTruth(() -> ('north_go_left',)  SE2Transform([0.0, 0.0],-1.5707963267948966)), 'north_go_right': GroundTruth(() -> ('north_go_right',)  SE2Transform([0.0, 0.0],-1.5707963267948966)), 'east_go_right': GroundTruth(() -> ('east_go_right',)  SE2Transform([0.0, 0.0],3.141592653589793)), 'east_go_straight': GroundTruth(() -> ('east_go_straight',)  SE2Transform([0.0, 0.0],3.141592653589793))})}, spatial_relations={1: GroundTruth(() -> ('3way_left',)  SE2Transform([0.0, 0.0],0.0))}),\n",
       " 'tile-0-1': Tile(children={'straight': PlacedObject(children={'lane1': LaneSegment(children={}, spatial_relations={}), 'lane2': LaneSegment(children={}, spatial_relations={})}, spatial_relations={'lane1': GroundTruth(() -> ('lane1',)  SE2Transform([0.0, 0.0],0.0)), 'lane2': GroundTruth(() -> ('lane2',)  SE2Transform([0.0, 0.0],3.141592653589793))})}, spatial_relations={1: GroundTruth(() -> ('straight',)  SE2Transform([0.0, 0.0],0.0))}),\n",
       " 'tile-1-1': Tile(children={}, spatial_relations={}),\n",
       " 'tile-2-1': Tile(children={'straight': PlacedObject(children={'lane1': LaneSegment(children={}, spatial_relations={}), 'lane2': LaneSegment(children={}, spatial_relations={})}, spatial_relations={'lane1': GroundTruth(() -> ('lane1',)  SE2Transform([0.0, 0.0],0.0)), 'lane2': GroundTruth(() -> ('lane2',)  SE2Transform([0.0, 0.0],3.141592653589793))})}, spatial_relations={1: GroundTruth(() -> ('straight',)  SE2Transform([0.0, 0.0],0.0))}),\n",
       " 'tile-3-1': Tile(children={}, spatial_relations={}),\n",
       " 'tile-4-1': Tile(children={'straight': PlacedObject(children={'lane1': LaneSegment(children={}, spatial_relations={}), 'lane2': LaneSegment(children={}, spatial_relations={})}, spatial_relations={'lane1': GroundTruth(() -> ('lane1',)  SE2Transform([0.0, 0.0],0.0)), 'lane2': GroundTruth(() -> ('lane2',)  SE2Transform([0.0, 0.0],3.141592653589793))})}, spatial_relations={1: GroundTruth(() -> ('straight',)  SE2Transform([0.0, 0.0],0.0))}),\n",
       " 'tile-0-0': Tile(children={'curve_left': PlacedObject(children={'curve': PlacedObject(children={'lane1': LaneSegment(children={}, spatial_relations={}), 'lane2': LaneSegment(children={}, spatial_relations={})}, spatial_relations={'lane1': GroundTruth(() -> ('lane1',)  SE2Transform([0.0, 0.0],0.0)), 'lane2': GroundTruth(() -> ('lane2',)  SE2Transform([0.0, 0.0],1.5707963267948966))})}, spatial_relations={'curve': GroundTruth(() -> ('curve',)  SE2Transform([0.0, 0.0],4.71238898038469))})}, spatial_relations={1: GroundTruth(() -> ('curve_left',)  SE2Transform([0.0, 0.0],0.0))}),\n",
       " 'tile-1-0': Tile(children={'straight': PlacedObject(children={'lane1': LaneSegment(children={}, spatial_relations={}), 'lane2': LaneSegment(children={}, spatial_relations={})}, spatial_relations={'lane1': GroundTruth(() -> ('lane1',)  SE2Transform([0.0, 0.0],0.0)), 'lane2': GroundTruth(() -> ('lane2',)  SE2Transform([0.0, 0.0],3.141592653589793))})}, spatial_relations={1: GroundTruth(() -> ('straight',)  SE2Transform([0.0, 0.0],0.0))}),\n",
       " 'tile-2-0': Tile(children={'3way_left': PlacedObject(children={'west_go_straight': LaneSegment(children={}, spatial_relations={}), 'west_go_left': LaneSegment(children={}, spatial_relations={}), 'north_go_left': LaneSegment(children={}, spatial_relations={}), 'north_go_right': LaneSegment(children={}, spatial_relations={}), 'east_go_right': LaneSegment(children={}, spatial_relations={}), 'east_go_straight': LaneSegment(children={}, spatial_relations={})}, spatial_relations={'west_go_straight': GroundTruth(() -> ('west_go_straight',)  SE2Transform([0.0, 0.0],0.0)), 'west_go_left': GroundTruth(() -> ('west_go_left',)  SE2Transform([0.0, 0.0],0.0)), 'north_go_left': GroundTruth(() -> ('north_go_left',)  SE2Transform([0.0, 0.0],-1.5707963267948966)), 'north_go_right': GroundTruth(() -> ('north_go_right',)  SE2Transform([0.0, 0.0],-1.5707963267948966)), 'east_go_right': GroundTruth(() -> ('east_go_right',)  SE2Transform([0.0, 0.0],3.141592653589793)), 'east_go_straight': GroundTruth(() -> ('east_go_straight',)  SE2Transform([0.0, 0.0],3.141592653589793))})}, spatial_relations={1: GroundTruth(() -> ('3way_left',)  SE2Transform([0.0, 0.0],0.0))}),\n",
       " 'tile-3-0': Tile(children={'straight': PlacedObject(children={'lane1': LaneSegment(children={}, spatial_relations={}), 'lane2': LaneSegment(children={}, spatial_relations={})}, spatial_relations={'lane1': GroundTruth(() -> ('lane1',)  SE2Transform([0.0, 0.0],0.0)), 'lane2': GroundTruth(() -> ('lane2',)  SE2Transform([0.0, 0.0],3.141592653589793))})}, spatial_relations={1: GroundTruth(() -> ('straight',)  SE2Transform([0.0, 0.0],0.0))}),\n",
       " 'tile-4-0': Tile(children={'curve_left': PlacedObject(children={'curve': PlacedObject(children={'lane1': LaneSegment(children={}, spatial_relations={}), 'lane2': LaneSegment(children={}, spatial_relations={})}, spatial_relations={'lane1': GroundTruth(() -> ('lane1',)  SE2Transform([0.0, 0.0],0.0)), 'lane2': GroundTruth(() -> ('lane2',)  SE2Transform([0.0, 0.0],1.5707963267948966))})}, spatial_relations={'curve': GroundTruth(() -> ('curve',)  SE2Transform([0.0, 0.0],4.71238898038469))})}, spatial_relations={1: GroundTruth(() -> ('curve_left',)  SE2Transform([0.0, 0.0],0.0))})}"
      ]
     },
     "execution_count": 63,
     "metadata": {},
     "output_type": "execute_result"
    }
   ],
   "source": [
    "m.children['tilemap'].children"
   ]
  },
  {
   "cell_type": "markdown",
   "metadata": {},
   "source": [
    "You can use the notation below to get a child in a compact way:"
   ]
  },
  {
   "cell_type": "code",
   "execution_count": 97,
   "metadata": {
    "scrolled": true
   },
   "outputs": [
    {
     "ename": "KeyError",
     "evalue": "'Cannot find child straight in []'",
     "output_type": "error",
     "traceback": [
      "\u001b[0;31m---------------------------------------------------------------------------\u001b[0m",
      "\u001b[0;31mKeyError\u001b[0m                                  Traceback (most recent call last)",
      "\u001b[0;32m<ipython-input-97-19ef4a86a236>\u001b[0m in \u001b[0;36m<module>\u001b[0;34m\u001b[0m\n\u001b[0;32m----> 1\u001b[0;31m \u001b[0mlane_segment\u001b[0m \u001b[0;34m=\u001b[0m \u001b[0mm\u001b[0m\u001b[0;34m[\u001b[0m\u001b[0;34m'tilemap/tile-0-1/straight/lane1'\u001b[0m\u001b[0;34m]\u001b[0m\u001b[0;34m\u001b[0m\u001b[0;34m\u001b[0m\u001b[0m\n\u001b[0m",
      "\u001b[0;32m/home/linuxbrew/.linuxbrew/opt/python/lib/python3.7/site-packages/duckietown_world-1.0.30-py3.7.egg/duckietown_world/geo/placed_object.py\u001b[0m in \u001b[0;36m__getitem__\u001b[0;34m(self, item)\u001b[0m\n\u001b[1;32m    200\u001b[0m             \u001b[0mitem\u001b[0m \u001b[0;34m=\u001b[0m \u001b[0mfqn_from_url\u001b[0m\u001b[0;34m(\u001b[0m\u001b[0mitem\u001b[0m\u001b[0;34m)\u001b[0m\u001b[0;34m\u001b[0m\u001b[0;34m\u001b[0m\u001b[0m\n\u001b[1;32m    201\u001b[0m         \u001b[0mcheck_isinstance\u001b[0m\u001b[0;34m(\u001b[0m\u001b[0mitem\u001b[0m\u001b[0;34m,\u001b[0m \u001b[0mtuple\u001b[0m\u001b[0;34m)\u001b[0m\u001b[0;34m\u001b[0m\u001b[0;34m\u001b[0m\u001b[0m\n\u001b[0;32m--> 202\u001b[0;31m         \u001b[0;32mreturn\u001b[0m \u001b[0mself\u001b[0m\u001b[0;34m.\u001b[0m\u001b[0mget_object_from_fqn\u001b[0m\u001b[0;34m(\u001b[0m\u001b[0mitem\u001b[0m\u001b[0;34m)\u001b[0m\u001b[0;34m\u001b[0m\u001b[0;34m\u001b[0m\u001b[0m\n\u001b[0m\u001b[1;32m    203\u001b[0m \u001b[0;34m\u001b[0m\u001b[0m\n\u001b[1;32m    204\u001b[0m     \u001b[0;32mdef\u001b[0m \u001b[0mget_object_from_fqn\u001b[0m\u001b[0;34m(\u001b[0m\u001b[0mself\u001b[0m\u001b[0;34m,\u001b[0m \u001b[0mfqn\u001b[0m\u001b[0;34m:\u001b[0m \u001b[0mFQN\u001b[0m\u001b[0;34m)\u001b[0m \u001b[0;34m->\u001b[0m \u001b[0;34m'PlacedObject'\u001b[0m\u001b[0;34m:\u001b[0m\u001b[0;34m\u001b[0m\u001b[0;34m\u001b[0m\u001b[0m\n",
      "\u001b[0;32m/home/linuxbrew/.linuxbrew/opt/python/lib/python3.7/site-packages/duckietown_world-1.0.30-py3.7.egg/duckietown_world/geo/placed_object.py\u001b[0m in \u001b[0;36mget_object_from_fqn\u001b[0;34m(self, fqn)\u001b[0m\n\u001b[1;32m    207\u001b[0m         \u001b[0mfirst\u001b[0m\u001b[0;34m,\u001b[0m \u001b[0mrest\u001b[0m \u001b[0;34m=\u001b[0m \u001b[0mfqn\u001b[0m\u001b[0;34m[\u001b[0m\u001b[0;36m0\u001b[0m\u001b[0;34m]\u001b[0m\u001b[0;34m,\u001b[0m \u001b[0mfqn\u001b[0m\u001b[0;34m[\u001b[0m\u001b[0;36m1\u001b[0m\u001b[0;34m:\u001b[0m\u001b[0;34m]\u001b[0m\u001b[0;34m\u001b[0m\u001b[0;34m\u001b[0m\u001b[0m\n\u001b[1;32m    208\u001b[0m         \u001b[0;32mif\u001b[0m \u001b[0mfirst\u001b[0m \u001b[0;32min\u001b[0m \u001b[0mself\u001b[0m\u001b[0;34m.\u001b[0m\u001b[0mchildren\u001b[0m\u001b[0;34m:\u001b[0m\u001b[0;34m\u001b[0m\u001b[0;34m\u001b[0m\u001b[0m\n\u001b[0;32m--> 209\u001b[0;31m             \u001b[0;32mreturn\u001b[0m \u001b[0mself\u001b[0m\u001b[0;34m.\u001b[0m\u001b[0mchildren\u001b[0m\u001b[0;34m[\u001b[0m\u001b[0mfirst\u001b[0m\u001b[0;34m]\u001b[0m\u001b[0;34m.\u001b[0m\u001b[0mget_object_from_fqn\u001b[0m\u001b[0;34m(\u001b[0m\u001b[0mrest\u001b[0m\u001b[0;34m)\u001b[0m\u001b[0;34m\u001b[0m\u001b[0;34m\u001b[0m\u001b[0m\n\u001b[0m\u001b[1;32m    210\u001b[0m         \u001b[0;32melse\u001b[0m\u001b[0;34m:\u001b[0m\u001b[0;34m\u001b[0m\u001b[0;34m\u001b[0m\u001b[0m\n\u001b[1;32m    211\u001b[0m             \u001b[0mmsg\u001b[0m \u001b[0;34m=\u001b[0m \u001b[0;34m'Cannot find child %s in %s'\u001b[0m \u001b[0;34m%\u001b[0m \u001b[0;34m(\u001b[0m\u001b[0mfirst\u001b[0m\u001b[0;34m,\u001b[0m \u001b[0mlist\u001b[0m\u001b[0;34m(\u001b[0m\u001b[0mself\u001b[0m\u001b[0;34m.\u001b[0m\u001b[0mchildren\u001b[0m\u001b[0;34m)\u001b[0m\u001b[0;34m)\u001b[0m\u001b[0;34m\u001b[0m\u001b[0;34m\u001b[0m\u001b[0m\n",
      "\u001b[0;32m/home/linuxbrew/.linuxbrew/opt/python/lib/python3.7/site-packages/duckietown_world-1.0.30-py3.7.egg/duckietown_world/geo/placed_object.py\u001b[0m in \u001b[0;36mget_object_from_fqn\u001b[0;34m(self, fqn)\u001b[0m\n\u001b[1;32m    207\u001b[0m         \u001b[0mfirst\u001b[0m\u001b[0;34m,\u001b[0m \u001b[0mrest\u001b[0m \u001b[0;34m=\u001b[0m \u001b[0mfqn\u001b[0m\u001b[0;34m[\u001b[0m\u001b[0;36m0\u001b[0m\u001b[0;34m]\u001b[0m\u001b[0;34m,\u001b[0m \u001b[0mfqn\u001b[0m\u001b[0;34m[\u001b[0m\u001b[0;36m1\u001b[0m\u001b[0;34m:\u001b[0m\u001b[0;34m]\u001b[0m\u001b[0;34m\u001b[0m\u001b[0;34m\u001b[0m\u001b[0m\n\u001b[1;32m    208\u001b[0m         \u001b[0;32mif\u001b[0m \u001b[0mfirst\u001b[0m \u001b[0;32min\u001b[0m \u001b[0mself\u001b[0m\u001b[0;34m.\u001b[0m\u001b[0mchildren\u001b[0m\u001b[0;34m:\u001b[0m\u001b[0;34m\u001b[0m\u001b[0;34m\u001b[0m\u001b[0m\n\u001b[0;32m--> 209\u001b[0;31m             \u001b[0;32mreturn\u001b[0m \u001b[0mself\u001b[0m\u001b[0;34m.\u001b[0m\u001b[0mchildren\u001b[0m\u001b[0;34m[\u001b[0m\u001b[0mfirst\u001b[0m\u001b[0;34m]\u001b[0m\u001b[0;34m.\u001b[0m\u001b[0mget_object_from_fqn\u001b[0m\u001b[0;34m(\u001b[0m\u001b[0mrest\u001b[0m\u001b[0;34m)\u001b[0m\u001b[0;34m\u001b[0m\u001b[0;34m\u001b[0m\u001b[0m\n\u001b[0m\u001b[1;32m    210\u001b[0m         \u001b[0;32melse\u001b[0m\u001b[0;34m:\u001b[0m\u001b[0;34m\u001b[0m\u001b[0;34m\u001b[0m\u001b[0m\n\u001b[1;32m    211\u001b[0m             \u001b[0mmsg\u001b[0m \u001b[0;34m=\u001b[0m \u001b[0;34m'Cannot find child %s in %s'\u001b[0m \u001b[0;34m%\u001b[0m \u001b[0;34m(\u001b[0m\u001b[0mfirst\u001b[0m\u001b[0;34m,\u001b[0m \u001b[0mlist\u001b[0m\u001b[0;34m(\u001b[0m\u001b[0mself\u001b[0m\u001b[0;34m.\u001b[0m\u001b[0mchildren\u001b[0m\u001b[0;34m)\u001b[0m\u001b[0;34m)\u001b[0m\u001b[0;34m\u001b[0m\u001b[0;34m\u001b[0m\u001b[0m\n",
      "\u001b[0;32m/home/linuxbrew/.linuxbrew/opt/python/lib/python3.7/site-packages/duckietown_world-1.0.30-py3.7.egg/duckietown_world/geo/placed_object.py\u001b[0m in \u001b[0;36mget_object_from_fqn\u001b[0;34m(self, fqn)\u001b[0m\n\u001b[1;32m    210\u001b[0m         \u001b[0;32melse\u001b[0m\u001b[0;34m:\u001b[0m\u001b[0;34m\u001b[0m\u001b[0;34m\u001b[0m\u001b[0m\n\u001b[1;32m    211\u001b[0m             \u001b[0mmsg\u001b[0m \u001b[0;34m=\u001b[0m \u001b[0;34m'Cannot find child %s in %s'\u001b[0m \u001b[0;34m%\u001b[0m \u001b[0;34m(\u001b[0m\u001b[0mfirst\u001b[0m\u001b[0;34m,\u001b[0m \u001b[0mlist\u001b[0m\u001b[0;34m(\u001b[0m\u001b[0mself\u001b[0m\u001b[0;34m.\u001b[0m\u001b[0mchildren\u001b[0m\u001b[0;34m)\u001b[0m\u001b[0;34m)\u001b[0m\u001b[0;34m\u001b[0m\u001b[0;34m\u001b[0m\u001b[0m\n\u001b[0;32m--> 212\u001b[0;31m             \u001b[0;32mraise\u001b[0m \u001b[0mKeyError\u001b[0m\u001b[0;34m(\u001b[0m\u001b[0mmsg\u001b[0m\u001b[0;34m)\u001b[0m\u001b[0;34m\u001b[0m\u001b[0;34m\u001b[0m\u001b[0m\n\u001b[0m\u001b[1;32m    213\u001b[0m \u001b[0;34m\u001b[0m\u001b[0m\n\u001b[1;32m    214\u001b[0m     \u001b[0;32mdef\u001b[0m \u001b[0mparams_to_json_dict\u001b[0m\u001b[0;34m(\u001b[0m\u001b[0mself\u001b[0m\u001b[0;34m)\u001b[0m\u001b[0;34m:\u001b[0m\u001b[0;34m\u001b[0m\u001b[0;34m\u001b[0m\u001b[0m\n",
      "\u001b[0;31mKeyError\u001b[0m: 'Cannot find child straight in []'"
     ]
    }
   ],
   "source": [
    "lane_segment = m['tilemap/tile-0-1/straight/lane1']"
   ]
  },
  {
   "cell_type": "markdown",
   "metadata": {},
   "source": [
    "In this case we can see how a Tile has a child `curve_left` with a child `curve` with two children `lane1` and `lane2`:"
   ]
  },
  {
   "cell_type": "code",
   "execution_count": 104,
   "metadata": {},
   "outputs": [
    {
     "name": "stdout",
     "output_type": "stream",
     "text": [
      "Tile\n",
      "\n",
      "└ straight ┐ PlacedObject\n",
      "           │ \n",
      "           │ ├ lane1 ┐ LaneSegment\n",
      "           │ │       └──────────────\n",
      "           │ └ lane2 ┐ LaneSegment\n",
      "           │         └──────────────\n",
      "           └──────────────────────────\n"
     ]
    }
   ],
   "source": [
    "tile = m.children['tilemap'].children['tile-4-0']\n",
    "print(dw.get_object_tree(tile, attributes=False, levels=10))"
   ]
  },
  {
   "cell_type": "code",
   "execution_count": 105,
   "metadata": {},
   "outputs": [
    {
     "name": "stdout",
     "output_type": "stream",
     "text": [
      "Tile\n",
      "\n",
      " kind: straight\n",
      " drivable: true\n",
      " \n",
      "\n",
      "└ straight ┐ PlacedObject\n",
      "           │ \n",
      "           │ ├ lane1 ┐ LaneSegment\n",
      "           │ │       │\n",
      "           │ │       │  width: 0.376\n",
      "           │ │       │  control_points:\n",
      "           │ │       │  -   ~SE2Transform:\n",
      "           │ │       │          p:\n",
      "           │ │       │          - -0.5\n",
      "           │ │       │          - -0.22\n",
      "           │ │       │  -   ~SE2Transform:\n",
      "           │ │       │          p:\n",
      "           │ │       │          - 0.5\n",
      "           │ │       │          - -0.22\n",
      "           │ │       │\n",
      "           │ │       └──────────────────────\n",
      "           │ └ lane2 ┐ LaneSegment\n",
      "           │         │\n",
      "           │         │  width: 0.376\n",
      "           │         │  control_points:\n",
      "           │         │  -   ~SE2Transform:\n",
      "           │         │          p:\n",
      "           │         │          - -0.5\n",
      "           │         │          - -0.22\n",
      "           │         │  -   ~SE2Transform:\n",
      "           │         │          p:\n",
      "           │         │          - 0.5\n",
      "           │         │          - -0.22\n",
      "           │         │\n",
      "           │         └──────────────────────\n",
      "           └──────────────────────────────────\n"
     ]
    }
   ],
   "source": [
    "print(dw.get_object_tree(tile, attributes=True, levels=10))"
   ]
  },
  {
   "cell_type": "code",
   "execution_count": 115,
   "metadata": {},
   "outputs": [
    {
     "data": {
      "text/html": [
       "\n",
       "        <iframe\n",
       "            width=\"100%\"\n",
       "            height=\"600\"\n",
       "            src=\"out/ipython_draw_html/140600086205328/drawing.html\"\n",
       "            frameborder=\"0\"\n",
       "            allowfullscreen\n",
       "        ></iframe>\n",
       "        "
      ],
      "text/plain": [
       "<IPython.lib.display.IFrame at 0x7fdffe60be10>"
      ]
     },
     "metadata": {},
     "output_type": "display_data"
    }
   ],
   "source": [
    "lane1 = tile['straight/lane2']\n",
    "ipython_draw_html(lane1);\n"
   ]
  },
  {
   "cell_type": "code",
   "execution_count": 118,
   "metadata": {},
   "outputs": [
    {
     "name": "stdout",
     "output_type": "stream",
     "text": [
      "LaneSegment\n",
      "\n",
      " width: 0.376\n",
      " control_points:\n",
      " -   ~SE2Transform:\n",
      "         p:\n",
      "         - -0.5\n",
      "         - -0.22\n",
      " -   ~SE2Transform:\n",
      "         p:\n",
      "         - 0.5\n",
      "         - -0.22\n",
      " \n"
     ]
    }
   ],
   "source": [
    "curve = tile['straight/lane1']\n",
    "print(dw.get_object_tree(curve, attributes=True, spatial_relations=True, levels=10))"
   ]
  },
  {
   "cell_type": "code",
   "execution_count": 119,
   "metadata": {},
   "outputs": [
    {
     "data": {
      "text/html": [
       "\n",
       "        <iframe\n",
       "            width=\"100%\"\n",
       "            height=\"600\"\n",
       "            src=\"out/ipython_draw_html/140600086206160/drawing.html\"\n",
       "            frameborder=\"0\"\n",
       "            allowfullscreen\n",
       "        ></iframe>\n",
       "        "
      ],
      "text/plain": [
       "<IPython.lib.display.IFrame at 0x7fe0022e4110>"
      ]
     },
     "metadata": {},
     "output_type": "display_data"
    }
   ],
   "source": [
    "ipython_draw_html(curve);"
   ]
  },
  {
   "cell_type": "code",
   "execution_count": 125,
   "metadata": {},
   "outputs": [
    {
     "data": {
      "text/html": [
       "\n",
       "        <iframe\n",
       "            width=\"100%\"\n",
       "            height=\"600\"\n",
       "            src=\"out/ipython_draw_html/140600013341904/drawing.html\"\n",
       "            frameborder=\"0\"\n",
       "            allowfullscreen\n",
       "        ></iframe>\n",
       "        "
      ],
      "text/plain": [
       "<IPython.lib.display.IFrame at 0x7fe0022c8150>"
      ]
     },
     "metadata": {},
     "output_type": "display_data"
    }
   ],
   "source": [
    "lane = tile['straight/lane2']._copy()\n",
    "\n",
    "ipython_draw_html(lane);"
   ]
  },
  {
   "cell_type": "code",
   "execution_count": 126,
   "metadata": {},
   "outputs": [
    {
     "data": {
      "text/plain": [
       "0.376"
      ]
     },
     "execution_count": 126,
     "metadata": {},
     "output_type": "execute_result"
    }
   ],
   "source": [
    "lane.width"
   ]
  },
  {
   "cell_type": "code",
   "execution_count": 127,
   "metadata": {},
   "outputs": [
    {
     "data": {
      "text/plain": [
       "[SE2Transform([-0.5, -0.22],0.0), SE2Transform([0.5, -0.22],0.0)]"
      ]
     },
     "execution_count": 127,
     "metadata": {},
     "output_type": "execute_result"
    }
   ],
   "source": [
    "lane.control_points"
   ]
  },
  {
   "cell_type": "markdown",
   "metadata": {},
   "source": [
    "## Parametrization of lanes\n",
    "\n",
    "The lane is parametrized with a parameter `beta` that interpolates among the control points.\n",
    "\n",
    "Here we create an animation of the center point for different `beta`s."
   ]
  },
  {
   "cell_type": "code",
   "execution_count": 128,
   "metadata": {},
   "outputs": [
    {
     "name": "stdout",
     "output_type": "stream",
     "text": [
      "[-1.0, -0.7894736842105263, -0.5789473684210527, -0.368421052631579, -0.1578947368421053, 0.05263157894736836, 0.26315789473684204, 0.4736842105263157, 0.6842105263157894, 0.894736842105263, 1.1052631578947367, 1.3157894736842106, 1.526315789473684, 1.7368421052631575, 1.9473684210526314, 2.1578947368421053, 2.3684210526315788, 2.578947368421052, 2.789473684210526, 3.0]\n"
     ]
    }
   ],
   "source": [
    "import numpy as np\n",
    "npoints = len(lane.control_points)\n",
    "betas = list(np.linspace(-1, npoints + 1, 20))\n",
    "print(betas)"
   ]
  },
  {
   "cell_type": "code",
   "execution_count": 129,
   "metadata": {},
   "outputs": [
    {
     "data": {
      "text/html": [
       "\n",
       "        <iframe\n",
       "            width=\"100%\"\n",
       "            height=\"600\"\n",
       "            src=\"out/ipython_draw_html/140600013341904/drawing.html\"\n",
       "            frameborder=\"0\"\n",
       "            allowfullscreen\n",
       "        ></iframe>\n",
       "        "
      ],
      "text/plain": [
       "<IPython.lib.display.IFrame at 0x7fe0022fcb10>"
      ]
     },
     "metadata": {},
     "output_type": "display_data"
    }
   ],
   "source": [
    "transforms = []\n",
    "for beta in betas:\n",
    "    # call the function `center_point` to get the center point (in SE(2))\n",
    "    p = lane.center_point(beta)\n",
    "    transform = dw.SE2Transform.from_SE2(p)\n",
    "    transforms.append(transform)\n",
    "\n",
    "ground_truth = dw.SampledSequence(betas, transforms)\n",
    "lane.set_object('traveling-point', dw.PlacedObject(), ground_truth=ground_truth)\n",
    "ipython_draw_html(lane);"
   ]
  },
  {
   "cell_type": "markdown",
   "metadata": {},
   "source": [
    "Scrub the timeline to see the animation."
   ]
  },
  {
   "cell_type": "code",
   "execution_count": 130,
   "metadata": {},
   "outputs": [],
   "source": [
    "import geometry as geo\n",
    "q = geo.SE2_from_translation_angle([+0.05, -0.05], np.deg2rad(20))"
   ]
  },
  {
   "cell_type": "code",
   "execution_count": 131,
   "metadata": {},
   "outputs": [],
   "source": [
    "lane.set_object('db18-4', dw.DB18(), ground_truth=dw.SE2Transform.from_SE2(q))\n",
    "lane_pose = lane.lane_pose_from_SE2(q)\n",
    "\n",
    "lane.set_object('marker3', dw.PlacedObject(), ground_truth=lane_pose.center_point)"
   ]
  },
  {
   "cell_type": "code",
   "execution_count": 132,
   "metadata": {},
   "outputs": [
    {
     "data": {
      "text/plain": [
       "{'traveling-point': PlacedObject(children={}, spatial_relations={}),\n",
       " 'db18-4': DB18(children={}, spatial_relations={}),\n",
       " 'marker3': PlacedObject(children={}, spatial_relations={})}"
      ]
     },
     "execution_count": 132,
     "metadata": {},
     "output_type": "execute_result"
    }
   ],
   "source": [
    "lane.children"
   ]
  },
  {
   "cell_type": "code",
   "execution_count": 133,
   "metadata": {},
   "outputs": [
    {
     "data": {
      "text/plain": [
       "{0: GroundTruth(() -> ('traveling-point',)  SampledSequence(timestamps=[-1.0, -0.7894736842105263, -0.5789473684210527, -0.368421052631579, -0.1578947368421053, 0.05263157894736836, 0.26315789473684204, 0.4736842105263157, 0.6842105263157894, 0.894736842105263, 1.1052631578947367, 1.3157894736842106, 1.526315789473684, 1.7368421052631575, 1.9473684210526314, 2.1578947368421053, 2.3684210526315788, 2.578947368421052, 2.789473684210526, 3.0], values=[SE2Transform([-0.6, -0.2199999988079071],0.0), SE2Transform([-0.5789473684210527, -0.2199999988079071],0.0), SE2Transform([-0.5578947368421052, -0.2199999988079071],0.0), SE2Transform([-0.5368421052631579, -0.2199999988079071],0.0), SE2Transform([-0.5157894736842106, -0.2199999988079071],0.0), SE2Transform([-0.44736842105263164, -0.2199999988079071],0.0), SE2Transform([-0.23684210526315796, -0.2199999988079071],0.0), SE2Transform([-0.026315789473684292, -0.2199999988079071],0.0), SE2Transform([0.18421052631578938, -0.2199999988079071],0.0), SE2Transform([0.39473684210526305, -0.2199999988079071],0.0), SE2Transform([0.5105263157894737, -0.2199999988079071],0.0), SE2Transform([0.531578947368421, -0.2199999988079071],0.0), SE2Transform([0.5526315789473684, -0.2199999988079071],0.0), SE2Transform([0.5736842105263158, -0.2199999988079071],0.0), SE2Transform([0.5947368421052631, -0.2199999988079071],0.0), SE2Transform([0.6157894736842106, -0.2199999988079071],0.0), SE2Transform([0.6368421052631579, -0.2199999988079071],0.0), SE2Transform([0.6578947368421052, -0.2199999988079071],0.0), SE2Transform([0.6789473684210525, -0.2199999988079071],0.0), SE2Transform([0.7, -0.2199999988079071],0.0)])),\n",
       " 1: GroundTruth(() -> ('db18-4',)  SE2Transform([0.05, -0.05],0.3490658503988659)),\n",
       " 2: GroundTruth(() -> ('marker3',)  SE2Transform([0.050000000000000044, -0.2199999988079071],0.0))}"
      ]
     },
     "execution_count": 133,
     "metadata": {},
     "output_type": "execute_result"
    }
   ],
   "source": [
    "lane.spatial_relations"
   ]
  },
  {
   "cell_type": "code",
   "execution_count": 134,
   "metadata": {},
   "outputs": [
    {
     "data": {
      "text/html": [
       "\n",
       "        <iframe\n",
       "            width=\"100%\"\n",
       "            height=\"600\"\n",
       "            src=\"out/ipython_draw_html/140600013341904/drawing.html\"\n",
       "            frameborder=\"0\"\n",
       "            allowfullscreen\n",
       "        ></iframe>\n",
       "        "
      ],
      "text/plain": [
       "<IPython.lib.display.IFrame at 0x7fe0022b85d0>"
      ]
     },
     "metadata": {},
     "output_type": "display_data"
    }
   ],
   "source": [
    "ipython_draw_html(lane);"
   ]
  },
  {
   "cell_type": "code",
   "execution_count": 81,
   "metadata": {},
   "outputs": [],
   "source": [
    "assert lane_pose.correct_direction"
   ]
  },
  {
   "cell_type": "code",
   "execution_count": 82,
   "metadata": {},
   "outputs": [],
   "source": [
    "assert lane_pose.inside"
   ]
  },
  {
   "cell_type": "code",
   "execution_count": 83,
   "metadata": {},
   "outputs": [],
   "source": [
    "assert lane"
   ]
  },
  {
   "cell_type": "code",
   "execution_count": null,
   "metadata": {},
   "outputs": [],
   "source": []
  }
 ],
 "metadata": {
  "kernelspec": {
   "display_name": "Python 3",
   "language": "python",
   "name": "python3"
  },
  "language_info": {
   "codemirror_mode": {
    "name": "ipython",
    "version": 3
   },
   "file_extension": ".py",
   "mimetype": "text/x-python",
   "name": "python",
   "nbconvert_exporter": "python",
   "pygments_lexer": "ipython3",
   "version": "3.7.4"
  }
 },
 "nbformat": 4,
 "nbformat_minor": 2
}
