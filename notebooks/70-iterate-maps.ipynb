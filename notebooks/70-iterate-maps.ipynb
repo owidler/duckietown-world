{
 "cells": [
  {
   "cell_type": "markdown",
   "metadata": {},
   "source": [
    "# Setup"
   ]
  },
  {
   "cell_type": "code",
   "execution_count": 15,
   "metadata": {},
   "outputs": [],
   "source": [
    "import contracts\n",
    "contracts.disable_all()"
   ]
  },
  {
   "cell_type": "code",
   "execution_count": 16,
   "metadata": {},
   "outputs": [],
   "source": [
    "import duckietown_world as dw\n",
    "from duckietown_world.svg_drawing.ipython_utils import ipython_draw_html"
   ]
  },
  {
   "cell_type": "code",
   "execution_count": 17,
   "metadata": {},
   "outputs": [],
   "source": [
    "dw.logger.setLevel(50)"
   ]
  },
  {
   "cell_type": "markdown",
   "metadata": {},
   "source": [
    "Better visualization of output"
   ]
  },
  {
   "cell_type": "code",
   "execution_count": 18,
   "metadata": {},
   "outputs": [
    {
     "data": {
      "text/html": [
       "<style>\n",
       "pre {line-height: 90%}\n",
       "</style>\n"
      ],
      "text/plain": [
       "<IPython.core.display.HTML object>"
      ]
     },
     "metadata": {},
     "output_type": "display_data"
    }
   ],
   "source": [
    "%%html\n",
    "<style>\n",
    "pre {line-height: 90%}\n",
    "</style>"
   ]
  },
  {
   "cell_type": "markdown",
   "metadata": {},
   "source": [
    "# Getting data out of the Duckietown World maps\n",
    "Let's load a map."
   ]
  },
  {
   "cell_type": "code",
   "execution_count": 19,
   "metadata": {},
   "outputs": [],
   "source": [
    "m = dw.load_map('ethz_amod_lab_k31')\n"
   ]
  },
  {
   "cell_type": "code",
   "execution_count": 21,
   "metadata": {
    "scrolled": false
   },
   "outputs": [
    {
     "data": {
      "text/html": [
       "\n",
       "        <iframe\n",
       "            width=\"100%\"\n",
       "            height=\"600\"\n",
       "            src=\"out/ipython_draw_html/140597574169872/drawing.html\"\n",
       "            frameborder=\"0\"\n",
       "            allowfullscreen\n",
       "        ></iframe>\n",
       "        "
      ],
      "text/plain": [
       "<IPython.lib.display.IFrame at 0x7fdf63344fd0>"
      ]
     },
     "metadata": {},
     "output_type": "display_data"
    }
   ],
   "source": [
    "ipython_draw_html(m);"
   ]
  },
  {
   "cell_type": "markdown",
   "metadata": {},
   "source": [
    "If you want to get all the tiles, use:"
   ]
  },
  {
   "cell_type": "code",
   "execution_count": 22,
   "metadata": {},
   "outputs": [],
   "source": [
    "from duckietown_world.geo.measurements_utils import iterate_by_class\n",
    "\n",
    "records = list(iterate_by_class(m, dw.Tile))"
   ]
  },
  {
   "cell_type": "markdown",
   "metadata": {},
   "source": [
    "Each \"record\" here is of class `IterateByTestResult`"
   ]
  },
  {
   "cell_type": "code",
   "execution_count": 23,
   "metadata": {},
   "outputs": [
    {
     "data": {
      "text/plain": [
       "IterateByTestResult(fqn=('tilemap', 'tile-0-5'), transform_sequence=TransformSequence([Scale2D(scale=0.585), TileCoords(i=0,j=5,orientation=W)]), object=Tile(children={'curve_left': PlacedObject(children={'curve': PlacedObject(children={'lane1': LaneSegment(children={}, spatial_relations={}), 'lane2': LaneSegment(children={}, spatial_relations={})}, spatial_relations={'lane1': GroundTruth(() -> ('lane1',)  SE2Transform([0.0, 0.0],0.0)), 'lane2': GroundTruth(() -> ('lane2',)  SE2Transform([0.0, 0.0],1.5707963267948966))})}, spatial_relations={'curve': GroundTruth(() -> ('curve',)  SE2Transform([0.0, 0.0],4.71238898038469))})}, spatial_relations={1: GroundTruth(() -> ('curve_left',)  SE2Transform([0.0, 0.0],0.0))}), parents=(DuckietownMap(children={'tilemap': TileMap(children={'tile-0-5': Tile(children={'curve_left': PlacedObject(children={'curve': PlacedObject(children={'lane1': LaneSegment(children={}, spatial_relations={}), 'lane2': LaneSegment(children={}, spatial_relations={})}, spatial_relations={'lane1': GroundTruth(() -> ('lane1',)  SE2Transform([0.0, 0.0],0.0)), 'lane2': GroundTruth(() -> ('lane2',)  SE2Transform([0.0, 0.0],1.5707963267948966))})}, spatial_relations={'curve': GroundTruth(() -> ('curve',)  SE2Transform([0.0, 0.0],4.71238898038469))})}, spatial_relations={1: GroundTruth(() -> ('curve_left',)  SE2Transform([0.0, 0.0],0.0))}), 'tile-1-5': Tile(children={'straight': PlacedObject(children={'lane1': LaneSegment(children={}, spatial_relations={}), 'lane2': LaneSegment(children={}, spatial_relations={})}, spatial_relations={'lane1': GroundTruth(() -> ('lane1',)  SE2Transform([0.0, 0.0],0.0)), 'lane2': GroundTruth(() -> ('lane2',)  SE2Transform([0.0, 0.0],3.141592653589793))})}, spatial_relations={1: GroundTruth(() -> ('straight',)  SE2Transform([0.0, 0.0],0.0))}), 'tile-2-5': Tile(children={'3way_left': PlacedObject(children={'west_go_straight': LaneSegment(children={}, spatial_relations={}), 'west_go_left': LaneSegment(children={}, spatial_relations={}), 'north_go_left': LaneSegment(children={}, spatial_relations={}), 'north_go_right': LaneSegment(children={}, spatial_relations={}), 'east_go_right': LaneSegment(children={}, spatial_relations={}), 'east_go_straight': LaneSegment(children={}, spatial_relations={})}, spatial_relations={'west_go_straight': GroundTruth(() -> ('west_go_straight',)  SE2Transform([0.0, 0.0],0.0)), 'west_go_left': GroundTruth(() -> ('west_go_left',)  SE2Transform([0.0, 0.0],0.0)), 'north_go_left': GroundTruth(() -> ('north_go_left',)  SE2Transform([0.0, 0.0],-1.5707963267948966)), 'north_go_right': GroundTruth(() -> ('north_go_right',)  SE2Transform([0.0, 0.0],-1.5707963267948966)), 'east_go_right': GroundTruth(() -> ('east_go_right',)  SE2Transform([0.0, 0.0],3.141592653589793)), 'east_go_straight': GroundTruth(() -> ('east_go_straight',)  SE2Transform([0.0, 0.0],3.141592653589793))})}, spatial_relations={1: GroundTruth(() -> ('3way_left',)  SE2Transform([0.0, 0.0],0.0))}), 'tile-3-5': Tile(children={'straight': PlacedObject(children={'lane1': LaneSegment(children={}, spatial_relations={}), 'lane2': LaneSegment(children={}, spatial_relations={})}, spatial_relations={'lane1': GroundTruth(() -> ('lane1',)  SE2Transform([0.0, 0.0],0.0)), 'lane2': GroundTruth(() -> ('lane2',)  SE2Transform([0.0, 0.0],3.141592653589793))})}, spatial_relations={1: GroundTruth(() -> ('straight',)  SE2Transform([0.0, 0.0],0.0))}), 'tile-4-5': Tile(children={'curve_left': PlacedObject(children={'curve': PlacedObject(children={'lane1': LaneSegment(children={}, spatial_relations={}), 'lane2': LaneSegment(children={}, spatial_relations={})}, spatial_relations={'lane1': GroundTruth(() -> ('lane1',)  SE2Transform([0.0, 0.0],0.0)), 'lane2': GroundTruth(() -> ('lane2',)  SE2Transform([0.0, 0.0],1.5707963267948966))})}, spatial_relations={'curve': GroundTruth(() -> ('curve',)  SE2Transform([0.0, 0.0],4.71238898038469))})}, spatial_relations={1: GroundTruth(() -> ('curve_left',)  SE2Transform([0.0, 0.0],0.0))}), 'tile-5-5': Tile(children={}, spatial_relations={}), 'tile-0-4': Tile(children={'straight': PlacedObject(children={'lane1': LaneSegment(children={}, spatial_relations={}), 'lane2': LaneSegment(children={}, spatial_relations={})}, spatial_relations={'lane1': GroundTruth(() -> ('lane1',)  SE2Transform([0.0, 0.0],0.0)), 'lane2': GroundTruth(() -> ('lane2',)  SE2Transform([0.0, 0.0],3.141592653589793))})}, spatial_relations={1: GroundTruth(() -> ('straight',)  SE2Transform([0.0, 0.0],0.0))}), 'tile-1-4': Tile(children={}, spatial_relations={}), 'tile-2-4': Tile(children={'straight': PlacedObject(children={'lane1': LaneSegment(children={}, spatial_relations={}), 'lane2': LaneSegment(children={}, spatial_relations={})}, spatial_relations={'lane1': GroundTruth(() -> ('lane1',)  SE2Transform([0.0, 0.0],0.0)), 'lane2': GroundTruth(() -> ('lane2',)  SE2Transform([0.0, 0.0],3.141592653589793))})}, spatial_relations={1: GroundTruth(() -> ('straight',)  SE2Transform([0.0, 0.0],0.0))}), 'tile-3-4': Tile(children={}, spatial_relations={}), 'tile-4-4': Tile(children={'curve_left': PlacedObject(children={'curve': PlacedObject(children={'lane1': LaneSegment(children={}, spatial_relations={}), 'lane2': LaneSegment(children={}, spatial_relations={})}, spatial_relations={'lane1': GroundTruth(() -> ('lane1',)  SE2Transform([0.0, 0.0],0.0)), 'lane2': GroundTruth(() -> ('lane2',)  SE2Transform([0.0, 0.0],1.5707963267948966))})}, spatial_relations={'curve': GroundTruth(() -> ('curve',)  SE2Transform([0.0, 0.0],4.71238898038469))})}, spatial_relations={1: GroundTruth(() -> ('curve_left',)  SE2Transform([0.0, 0.0],0.0))}), 'tile-5-4': Tile(children={'curve_left': PlacedObject(children={'curve': PlacedObject(children={'lane1': LaneSegment(children={}, spatial_relations={}), 'lane2': LaneSegment(children={}, spatial_relations={})}, spatial_relations={'lane1': GroundTruth(() -> ('lane1',)  SE2Transform([0.0, 0.0],0.0)), 'lane2': GroundTruth(() -> ('lane2',)  SE2Transform([0.0, 0.0],1.5707963267948966))})}, spatial_relations={'curve': GroundTruth(() -> ('curve',)  SE2Transform([0.0, 0.0],4.71238898038469))})}, spatial_relations={1: GroundTruth(() -> ('curve_left',)  SE2Transform([0.0, 0.0],0.0))}), 'tile-0-3': Tile(children={'straight': PlacedObject(children={'lane1': LaneSegment(children={}, spatial_relations={}), 'lane2': LaneSegment(children={}, spatial_relations={})}, spatial_relations={'lane1': GroundTruth(() -> ('lane1',)  SE2Transform([0.0, 0.0],0.0)), 'lane2': GroundTruth(() -> ('lane2',)  SE2Transform([0.0, 0.0],3.141592653589793))})}, spatial_relations={1: GroundTruth(() -> ('straight',)  SE2Transform([0.0, 0.0],0.0))}), 'tile-1-3': Tile(children={}, spatial_relations={}), 'tile-2-3': Tile(children={'straight': PlacedObject(children={'lane1': LaneSegment(children={}, spatial_relations={}), 'lane2': LaneSegment(children={}, spatial_relations={})}, spatial_relations={'lane1': GroundTruth(() -> ('lane1',)  SE2Transform([0.0, 0.0],0.0)), 'lane2': GroundTruth(() -> ('lane2',)  SE2Transform([0.0, 0.0],3.141592653589793))})}, spatial_relations={1: GroundTruth(() -> ('straight',)  SE2Transform([0.0, 0.0],0.0))}), 'tile-3-3': Tile(children={}, spatial_relations={}), 'tile-4-3': Tile(children={}, spatial_relations={}), 'tile-5-3': Tile(children={'straight': PlacedObject(children={'lane1': LaneSegment(children={}, spatial_relations={}), 'lane2': LaneSegment(children={}, spatial_relations={})}, spatial_relations={'lane1': GroundTruth(() -> ('lane1',)  SE2Transform([0.0, 0.0],0.0)), 'lane2': GroundTruth(() -> ('lane2',)  SE2Transform([0.0, 0.0],3.141592653589793))})}, spatial_relations={1: GroundTruth(() -> ('straight',)  SE2Transform([0.0, 0.0],0.0))}), 'tile-0-2': Tile(children={'curve_right': PlacedObject(children={'lane1': LaneSegment(children={}, spatial_relations={}), 'lane2': LaneSegment(children={}, spatial_relations={})}, spatial_relations={'lane1': GroundTruth(() -> ('lane1',)  SE2Transform([0.0, 0.0],0.0)), 'lane2': GroundTruth(() -> ('lane2',)  SE2Transform([0.0, 0.0],1.5707963267948966))})}, spatial_relations={1: GroundTruth(() -> ('curve_right',)  SE2Transform([0.0, 0.0],0.0))}), 'tile-1-2': Tile(children={'straight': PlacedObject(children={'lane1': LaneSegment(children={}, spatial_relations={}), 'lane2': LaneSegment(children={}, spatial_relations={})}, spatial_relations={'lane1': GroundTruth(() -> ('lane1',)  SE2Transform([0.0, 0.0],0.0)), 'lane2': GroundTruth(() -> ('lane2',)  SE2Transform([0.0, 0.0],3.141592653589793))})}, spatial_relations={1: GroundTruth(() -> ('straight',)  SE2Transform([0.0, 0.0],0.0))}), 'tile-2-2': Tile(children={'4way': PlacedObject(children={'a': PlacedObject(children={'go_right': LaneSegment(children={}, spatial_relations={}), 'go_left': LaneSegment(children={}, spatial_relations={}), 'go_straight': LaneSegment(children={}, spatial_relations={})}, spatial_relations={'go_right': GroundTruth(() -> ('go_right',)  SE2Transform([0.0, 0.0],0.0)), 'go_left': GroundTruth(() -> ('go_left',)  SE2Transform([0.0, 0.0],0.0)), 'go_straight': GroundTruth(() -> ('go_straight',)  SE2Transform([0.0, 0.0],0.0))}), 'b': PlacedObject(children={'go_right': LaneSegment(children={}, spatial_relations={}), 'go_left': LaneSegment(children={}, spatial_relations={}), 'go_straight': LaneSegment(children={}, spatial_relations={})}, spatial_relations={'go_right': GroundTruth(() -> ('go_right',)  SE2Transform([0.0, 0.0],0.0)), 'go_left': GroundTruth(() -> ('go_left',)  SE2Transform([0.0, 0.0],0.0)), 'go_straight': GroundTruth(() -> ('go_straight',)  SE2Transform([0.0, 0.0],0.0))}), 'c': PlacedObject(children={'go_right': LaneSegment(children={}, spatial_relations={}), 'go_left': LaneSegment(children={}, spatial_relations={}), 'go_straight': LaneSegment(children={}, spatial_relations={})}, spatial_relations={'go_right': GroundTruth(() -> ('go_right',)  SE2Transform([0.0, 0.0],0.0)), 'go_left': GroundTruth(() -> ('go_left',)  SE2Transform([0.0, 0.0],0.0)), 'go_straight': GroundTruth(() -> ('go_straight',)  SE2Transform([0.0, 0.0],0.0))}), 'd': PlacedObject(children={'go_right': LaneSegment(children={}, spatial_relations={}), 'go_left': LaneSegment(children={}, spatial_relations={}), 'go_straight': LaneSegment(children={}, spatial_relations={})}, spatial_relations={'go_right': GroundTruth(() -> ('go_right',)  SE2Transform([0.0, 0.0],0.0)), 'go_left': GroundTruth(() -> ('go_left',)  SE2Transform([0.0, 0.0],0.0)), 'go_straight': GroundTruth(() -> ('go_straight',)  SE2Transform([0.0, 0.0],0.0))})}, spatial_relations={'a': GroundTruth(() -> ('a',)  SE2Transform([0.0, 0.0],0.0)), 'b': GroundTruth(() -> ('b',)  SE2Transform([0.0, 0.0],1.5707963267948966)), 'c': GroundTruth(() -> ('c',)  SE2Transform([0.0, 0.0],3.141592653589793)), 'd': GroundTruth(() -> ('d',)  SE2Transform([0.0, 0.0],4.71238898038469))})}, spatial_relations={1: GroundTruth(() -> ('4way',)  SE2Transform([0.0, 0.0],0.0))}), 'tile-3-2': Tile(children={'straight': PlacedObject(children={'lane1': LaneSegment(children={}, spatial_relations={}), 'lane2': LaneSegment(children={}, spatial_relations={})}, spatial_relations={'lane1': GroundTruth(() -> ('lane1',)  SE2Transform([0.0, 0.0],0.0)), 'lane2': GroundTruth(() -> ('lane2',)  SE2Transform([0.0, 0.0],3.141592653589793))})}, spatial_relations={1: GroundTruth(() -> ('straight',)  SE2Transform([0.0, 0.0],0.0))}), 'tile-4-2': Tile(children={'straight': PlacedObject(children={'lane1': LaneSegment(children={}, spatial_relations={}), 'lane2': LaneSegment(children={}, spatial_relations={})}, spatial_relations={'lane1': GroundTruth(() -> ('lane1',)  SE2Transform([0.0, 0.0],0.0)), 'lane2': GroundTruth(() -> ('lane2',)  SE2Transform([0.0, 0.0],3.141592653589793))})}, spatial_relations={1: GroundTruth(() -> ('straight',)  SE2Transform([0.0, 0.0],0.0))}), 'tile-5-2': Tile(children={'3way_left': PlacedObject(children={'west_go_straight': LaneSegment(children={}, spatial_relations={}), 'west_go_left': LaneSegment(children={}, spatial_relations={}), 'north_go_left': LaneSegment(children={}, spatial_relations={}), 'north_go_right': LaneSegment(children={}, spatial_relations={}), 'east_go_right': LaneSegment(children={}, spatial_relations={}), 'east_go_straight': LaneSegment(children={}, spatial_relations={})}, spatial_relations={'west_go_straight': GroundTruth(() -> ('west_go_straight',)  SE2Transform([0.0, 0.0],0.0)), 'west_go_left': GroundTruth(() -> ('west_go_left',)  SE2Transform([0.0, 0.0],0.0)), 'north_go_left': GroundTruth(() -> ('north_go_left',)  SE2Transform([0.0, 0.0],-1.5707963267948966)), 'north_go_right': GroundTruth(() -> ('north_go_right',)  SE2Transform([0.0, 0.0],-1.5707963267948966)), 'east_go_right': GroundTruth(() -> ('east_go_right',)  SE2Transform([0.0, 0.0],3.141592653589793)), 'east_go_straight': GroundTruth(() -> ('east_go_straight',)  SE2Transform([0.0, 0.0],3.141592653589793))})}, spatial_relations={1: GroundTruth(() -> ('3way_left',)  SE2Transform([0.0, 0.0],0.0))}), 'tile-0-1': Tile(children={}, spatial_relations={}), 'tile-1-1': Tile(children={}, spatial_relations={}), 'tile-2-1': Tile(children={'straight': PlacedObject(children={'lane1': LaneSegment(children={}, spatial_relations={}), 'lane2': LaneSegment(children={}, spatial_relations={})}, spatial_relations={'lane1': GroundTruth(() -> ('lane1',)  SE2Transform([0.0, 0.0],0.0)), 'lane2': GroundTruth(() -> ('lane2',)  SE2Transform([0.0, 0.0],3.141592653589793))})}, spatial_relations={1: GroundTruth(() -> ('straight',)  SE2Transform([0.0, 0.0],0.0))}), 'tile-3-1': Tile(children={}, spatial_relations={}), 'tile-4-1': Tile(children={}, spatial_relations={}), 'tile-5-1': Tile(children={'straight': PlacedObject(children={'lane1': LaneSegment(children={}, spatial_relations={}), 'lane2': LaneSegment(children={}, spatial_relations={})}, spatial_relations={'lane1': GroundTruth(() -> ('lane1',)  SE2Transform([0.0, 0.0],0.0)), 'lane2': GroundTruth(() -> ('lane2',)  SE2Transform([0.0, 0.0],3.141592653589793))})}, spatial_relations={1: GroundTruth(() -> ('straight',)  SE2Transform([0.0, 0.0],0.0))}), 'tile-0-0': Tile(children={}, spatial_relations={}), 'tile-1-0': Tile(children={}, spatial_relations={}), 'tile-2-0': Tile(children={'curve_right': PlacedObject(children={'lane1': LaneSegment(children={}, spatial_relations={}), 'lane2': LaneSegment(children={}, spatial_relations={})}, spatial_relations={'lane1': GroundTruth(() -> ('lane1',)  SE2Transform([0.0, 0.0],0.0)), 'lane2': GroundTruth(() -> ('lane2',)  SE2Transform([0.0, 0.0],1.5707963267948966))})}, spatial_relations={1: GroundTruth(() -> ('curve_right',)  SE2Transform([0.0, 0.0],0.0))}), 'tile-3-0': Tile(children={'straight': PlacedObject(children={'lane1': LaneSegment(children={}, spatial_relations={}), 'lane2': LaneSegment(children={}, spatial_relations={})}, spatial_relations={'lane1': GroundTruth(() -> ('lane1',)  SE2Transform([0.0, 0.0],0.0)), 'lane2': GroundTruth(() -> ('lane2',)  SE2Transform([0.0, 0.0],3.141592653589793))})}, spatial_relations={1: GroundTruth(() -> ('straight',)  SE2Transform([0.0, 0.0],0.0))}), 'tile-4-0': Tile(children={'straight': PlacedObject(children={'lane1': LaneSegment(children={}, spatial_relations={}), 'lane2': LaneSegment(children={}, spatial_relations={})}, spatial_relations={'lane1': GroundTruth(() -> ('lane1',)  SE2Transform([0.0, 0.0],0.0)), 'lane2': GroundTruth(() -> ('lane2',)  SE2Transform([0.0, 0.0],3.141592653589793))})}, spatial_relations={1: GroundTruth(() -> ('straight',)  SE2Transform([0.0, 0.0],0.0))}), 'tile-5-0': Tile(children={'curve_right': PlacedObject(children={'lane1': LaneSegment(children={}, spatial_relations={}), 'lane2': LaneSegment(children={}, spatial_relations={})}, spatial_relations={'lane1': GroundTruth(() -> ('lane1',)  SE2Transform([0.0, 0.0],0.0)), 'lane2': GroundTruth(() -> ('lane2',)  SE2Transform([0.0, 0.0],1.5707963267948966))})}, spatial_relations={1: GroundTruth(() -> ('curve_right',)  SE2Transform([0.0, 0.0],0.0))})}, spatial_relations={0: GroundTruth(() -> ('tile-0-5',)  TileCoords(i=0,j=5,orientation=W)), 1: GroundTruth(() -> ('tile-1-5',)  TileCoords(i=1,j=5,orientation=W)), 2: GroundTruth(() -> ('tile-2-5',)  TileCoords(i=2,j=5,orientation=W)), 3: GroundTruth(() -> ('tile-3-5',)  TileCoords(i=3,j=5,orientation=W)), 4: GroundTruth(() -> ('tile-4-5',)  TileCoords(i=4,j=5,orientation=N)), 5: GroundTruth(() -> ('tile-5-5',)  TileCoords(i=5,j=5,orientation=E)), 6: GroundTruth(() -> ('tile-0-4',)  TileCoords(i=0,j=4,orientation=S)), 7: GroundTruth(() -> ('tile-1-4',)  TileCoords(i=1,j=4,orientation=E)), 8: GroundTruth(() -> ('tile-2-4',)  TileCoords(i=2,j=4,orientation=S)), 9: GroundTruth(() -> ('tile-3-4',)  TileCoords(i=3,j=4,orientation=E)), 10: GroundTruth(() -> ('tile-4-4',)  TileCoords(i=4,j=4,orientation=S)), 11: GroundTruth(() -> ('tile-5-4',)  TileCoords(i=5,j=4,orientation=N)), 12: GroundTruth(() -> ('tile-0-3',)  TileCoords(i=0,j=3,orientation=S)), 13: GroundTruth(() -> ('tile-1-3',)  TileCoords(i=1,j=3,orientation=E)), 14: GroundTruth(() -> ('tile-2-3',)  TileCoords(i=2,j=3,orientation=S)), 15: GroundTruth(() -> ('tile-3-3',)  TileCoords(i=3,j=3,orientation=E)), 16: GroundTruth(() -> ('tile-4-3',)  TileCoords(i=4,j=3,orientation=E)), 17: GroundTruth(() -> ('tile-5-3',)  TileCoords(i=5,j=3,orientation=S)), 18: GroundTruth(() -> ('tile-0-2',)  TileCoords(i=0,j=2,orientation=W)), 19: GroundTruth(() -> ('tile-1-2',)  TileCoords(i=1,j=2,orientation=W)), 20: GroundTruth(() -> ('tile-2-2',)  TileCoords(i=2,j=2,orientation=W)), 21: GroundTruth(() -> ('tile-3-2',)  TileCoords(i=3,j=2,orientation=W)), 22: GroundTruth(() -> ('tile-4-2',)  TileCoords(i=4,j=2,orientation=W)), 23: GroundTruth(() -> ('tile-5-2',)  TileCoords(i=5,j=2,orientation=N)), 24: GroundTruth(() -> ('tile-0-1',)  TileCoords(i=0,j=1,orientation=E)), 25: GroundTruth(() -> ('tile-1-1',)  TileCoords(i=1,j=1,orientation=E)), 26: GroundTruth(() -> ('tile-2-1',)  TileCoords(i=2,j=1,orientation=S)), 27: GroundTruth(() -> ('tile-3-1',)  TileCoords(i=3,j=1,orientation=E)), 28: GroundTruth(() -> ('tile-4-1',)  TileCoords(i=4,j=1,orientation=E)), 29: GroundTruth(() -> ('tile-5-1',)  TileCoords(i=5,j=1,orientation=S)), 30: GroundTruth(() -> ('tile-0-0',)  TileCoords(i=0,j=0,orientation=E)), 31: GroundTruth(() -> ('tile-1-0',)  TileCoords(i=1,j=0,orientation=E)), 32: GroundTruth(() -> ('tile-2-0',)  TileCoords(i=2,j=0,orientation=W)), 33: GroundTruth(() -> ('tile-3-0',)  TileCoords(i=3,j=0,orientation=W)), 34: GroundTruth(() -> ('tile-4-0',)  TileCoords(i=4,j=0,orientation=W)), 35: GroundTruth(() -> ('tile-5-0',)  TileCoords(i=5,j=0,orientation=S))})}, spatial_relations={0: GroundTruth(() -> ('tilemap',)  Scale2D(scale=0.585))}),))"
      ]
     },
     "execution_count": 23,
     "metadata": {},
     "output_type": "execute_result"
    }
   ],
   "source": [
    "records[0]"
   ]
  },
  {
   "cell_type": "markdown",
   "metadata": {},
   "source": [
    "The record contains the name of the object, the object, and the sequence of transforms:"
   ]
  },
  {
   "cell_type": "code",
   "execution_count": 69,
   "metadata": {},
   "outputs": [
    {
     "name": "stdout",
     "output_type": "stream",
     "text": [
      "name of object: ('tilemap', 'tile-0-5')\n"
     ]
    }
   ],
   "source": [
    "print('name of object: {}'.format(records[0].fqn))"
   ]
  },
  {
   "cell_type": "code",
   "execution_count": 58,
   "metadata": {},
   "outputs": [
    {
     "name": "stdout",
     "output_type": "stream",
     "text": [
      "the object: Tile(children={'curve_left': PlacedObject(children={'curve': PlacedObject(children={'lane1': LaneSegment(children={}, spatial_relations={}), 'lane2': LaneSegment(children={}, spatial_relations={})}, spatial_relations={'lane1': GroundTruth(() -> ('lane1',)  SE2Transform([0.0, 0.0],0.0)), 'lane2': GroundTruth(() -> ('lane2',)  SE2Transform([0.0, 0.0],1.5707963267948966))})}, spatial_relations={'curve': GroundTruth(() -> ('curve',)  SE2Transform([0.0, 0.0],4.71238898038469))})}, spatial_relations={1: GroundTruth(() -> ('curve_left',)  SE2Transform([0.0, 0.0],0.0))})\n"
     ]
    }
   ],
   "source": [
    "print('the object: {}'.format(records[0].object))"
   ]
  },
  {
   "cell_type": "code",
   "execution_count": 59,
   "metadata": {
    "scrolled": true
   },
   "outputs": [
    {
     "name": "stdout",
     "output_type": "stream",
     "text": [
      "transfoms: TransformSequence([Scale2D(scale=0.585), TileCoords(i=0,j=5,orientation=W)])\n"
     ]
    }
   ],
   "source": [
    "print('transfoms: {}'.format(records[0].transform_sequence))"
   ]
  },
  {
   "cell_type": "markdown",
   "metadata": {},
   "source": [
    "You probably want to \"compress\" the transforms into one matrix. For this use the function `asmatrix2d`:"
   ]
  },
  {
   "cell_type": "code",
   "execution_count": 27,
   "metadata": {
    "scrolled": true
   },
   "outputs": [
    {
     "data": {
      "text/plain": [
       "Matrix2D(m=[[-5.850000e-01 -7.164184e-17  2.925000e-01]\n",
       " [ 7.164184e-17 -5.850000e-01  3.217500e+00]\n",
       " [ 0.000000e+00  0.000000e+00  1.000000e+00]])"
      ]
     },
     "execution_count": 27,
     "metadata": {},
     "output_type": "execute_result"
    }
   ],
   "source": [
    "records[0].transform_sequence.asmatrix2d()"
   ]
  },
  {
   "cell_type": "markdown",
   "metadata": {},
   "source": [
    "## Putting it all together\n",
    "\n",
    "The following code shows the proper way to \"get the tiles with their pose\".\n",
    "\n",
    "Note that each tile is nominally of side 1; the scale is contained in the transformation matrix."
   ]
  },
  {
   "cell_type": "code",
   "execution_count": 54,
   "metadata": {},
   "outputs": [
    {
     "name": "stdout",
     "output_type": "stream",
     "text": [
      "tile kind:   curve_left   translation:   0.29   3.22  angle:   -180.0 deg  scale: 0.58\n",
      "tile kind:     straight   translation:   0.88   3.22  angle:   -180.0 deg  scale: 0.58\n",
      "tile kind:    3way_left   translation:   1.46   3.22  angle:   -180.0 deg  scale: 0.58\n",
      "tile kind:     straight   translation:   2.05   3.22  angle:   -180.0 deg  scale: 0.58\n",
      "tile kind:   curve_left   translation:   2.63   3.22  angle:     90.0 deg  scale: 0.58\n",
      "tile kind:      asphalt   translation:   3.22   3.22  angle:      0.0 deg  scale: 0.58\n",
      "tile kind:     straight   translation:   0.29   2.63  angle: -90.00000000000001 deg  scale: 0.58\n",
      "tile kind:      asphalt   translation:   0.88   2.63  angle:      0.0 deg  scale: 0.58\n",
      "tile kind:     straight   translation:   1.46   2.63  angle: -90.00000000000001 deg  scale: 0.58\n",
      "tile kind:      asphalt   translation:   2.05   2.63  angle:      0.0 deg  scale: 0.58\n",
      "tile kind:   curve_left   translation:   2.63   2.63  angle: -90.00000000000001 deg  scale: 0.58\n",
      "tile kind:   curve_left   translation:   3.22   2.63  angle:     90.0 deg  scale: 0.58\n",
      "tile kind:     straight   translation:   0.29   2.05  angle: -90.00000000000001 deg  scale: 0.58\n",
      "tile kind:      asphalt   translation:   0.88   2.05  angle:      0.0 deg  scale: 0.58\n",
      "tile kind:     straight   translation:   1.46   2.05  angle: -90.00000000000001 deg  scale: 0.58\n",
      "tile kind:      asphalt   translation:   2.05   2.05  angle:      0.0 deg  scale: 0.58\n",
      "tile kind:      asphalt   translation:   2.63   2.05  angle:      0.0 deg  scale: 0.58\n",
      "tile kind:     straight   translation:   3.22   2.05  angle: -90.00000000000001 deg  scale: 0.58\n",
      "tile kind:  curve_right   translation:   0.29   1.46  angle:   -180.0 deg  scale: 0.58\n",
      "tile kind:     straight   translation:   0.88   1.46  angle:   -180.0 deg  scale: 0.58\n",
      "tile kind:         4way   translation:   1.46   1.46  angle:   -180.0 deg  scale: 0.58\n",
      "tile kind:     straight   translation:   2.05   1.46  angle:   -180.0 deg  scale: 0.58\n",
      "tile kind:     straight   translation:   2.63   1.46  angle:   -180.0 deg  scale: 0.58\n",
      "tile kind:    3way_left   translation:   3.22   1.46  angle:     90.0 deg  scale: 0.58\n",
      "tile kind:      asphalt   translation:   0.29   0.88  angle:      0.0 deg  scale: 0.58\n",
      "tile kind:      asphalt   translation:   0.88   0.88  angle:      0.0 deg  scale: 0.58\n",
      "tile kind:     straight   translation:   1.46   0.88  angle: -90.00000000000001 deg  scale: 0.58\n",
      "tile kind:      asphalt   translation:   2.05   0.88  angle:      0.0 deg  scale: 0.58\n",
      "tile kind:      asphalt   translation:   2.63   0.88  angle:      0.0 deg  scale: 0.58\n",
      "tile kind:     straight   translation:   3.22   0.88  angle: -90.00000000000001 deg  scale: 0.58\n",
      "tile kind:      asphalt   translation:   0.29   0.29  angle:      0.0 deg  scale: 0.58\n",
      "tile kind:      asphalt   translation:   0.88   0.29  angle:      0.0 deg  scale: 0.58\n",
      "tile kind:  curve_right   translation:   1.46   0.29  angle:   -180.0 deg  scale: 0.58\n",
      "tile kind:     straight   translation:   2.05   0.29  angle:   -180.0 deg  scale: 0.58\n",
      "tile kind:     straight   translation:   2.63   0.29  angle:   -180.0 deg  scale: 0.58\n",
      "tile kind:  curve_right   translation:   3.22   0.29  angle: -90.00000000000001 deg  scale: 0.58\n"
     ]
    }
   ],
   "source": [
    "import geometry as geo\n",
    "import numpy as np\n",
    "\n",
    "for record in records: # only first 15\n",
    "    tile = record.object\n",
    "    matrix = record.transform_sequence.asmatrix2d().m\n",
    "    translation, angle, scale = geo.translation_angle_scale_from_E2(matrix)\n",
    "    print('tile kind: %12s   translation: %6.2f %6.2f  angle: %8s deg  scale: %.2f' % (tile.kind, translation[0], translation[1], np.rad2deg(angle), scale))"
   ]
  },
  {
   "cell_type": "markdown",
   "metadata": {},
   "source": [
    "# Getting other objects\n",
    "\n",
    "The same can be repeated with lane segments, traffic signs, etc.\n",
    "\n",
    "For example, the following iterates over traffic signs:\n",
    "\n"
   ]
  },
  {
   "cell_type": "code",
   "execution_count": 74,
   "metadata": {},
   "outputs": [
    {
     "name": "stdout",
     "output_type": "stream",
     "text": [
      "{}\n",
      "object: SignRightTIntersect(children={}, spatial_relations={})   translation:   0.29   3.22  angle:   -180.0 deg  scale: 0.58\n",
      "{}\n",
      "object: SignRightTIntersect(children={}, spatial_relations={})   translation:   0.88   3.22  angle:   -180.0 deg  scale: 0.58\n",
      "{}\n",
      "object: SignRightTIntersect(children={}, spatial_relations={})   translation:   1.46   3.22  angle:   -180.0 deg  scale: 0.58\n",
      "{}\n",
      "object: SignRightTIntersect(children={}, spatial_relations={})   translation:   2.05   3.22  angle:   -180.0 deg  scale: 0.58\n",
      "{}\n",
      "object: SignRightTIntersect(children={}, spatial_relations={})   translation:   2.63   3.22  angle:     90.0 deg  scale: 0.58\n",
      "{}\n",
      "object: SignRightTIntersect(children={}, spatial_relations={})   translation:   3.22   3.22  angle:      0.0 deg  scale: 0.58\n",
      "{}\n",
      "object: SignRightTIntersect(children={}, spatial_relations={})   translation:   0.29   2.63  angle: -90.00000000000001 deg  scale: 0.58\n",
      "{}\n",
      "object: SignRightTIntersect(children={}, spatial_relations={})   translation:   0.88   2.63  angle:      0.0 deg  scale: 0.58\n",
      "{}\n",
      "object: SignRightTIntersect(children={}, spatial_relations={})   translation:   1.46   2.63  angle: -90.00000000000001 deg  scale: 0.58\n",
      "{}\n",
      "object: SignRightTIntersect(children={}, spatial_relations={})   translation:   2.05   2.63  angle:      0.0 deg  scale: 0.58\n",
      "{}\n",
      "object: SignRightTIntersect(children={}, spatial_relations={})   translation:   2.63   2.63  angle: -90.00000000000001 deg  scale: 0.58\n",
      "{}\n",
      "object: SignRightTIntersect(children={}, spatial_relations={})   translation:   3.22   2.63  angle:     90.0 deg  scale: 0.58\n",
      "{}\n",
      "object: SignRightTIntersect(children={}, spatial_relations={})   translation:   0.29   2.05  angle: -90.00000000000001 deg  scale: 0.58\n",
      "{}\n",
      "object: SignRightTIntersect(children={}, spatial_relations={})   translation:   0.88   2.05  angle:      0.0 deg  scale: 0.58\n",
      "{}\n",
      "object: SignRightTIntersect(children={}, spatial_relations={})   translation:   1.46   2.05  angle: -90.00000000000001 deg  scale: 0.58\n",
      "{}\n",
      "object: SignRightTIntersect(children={}, spatial_relations={})   translation:   2.05   2.05  angle:      0.0 deg  scale: 0.58\n",
      "{}\n",
      "object: SignRightTIntersect(children={}, spatial_relations={})   translation:   2.63   2.05  angle:      0.0 deg  scale: 0.58\n",
      "{}\n",
      "object: SignRightTIntersect(children={}, spatial_relations={})   translation:   3.22   2.05  angle: -90.00000000000001 deg  scale: 0.58\n",
      "{}\n",
      "object: SignRightTIntersect(children={}, spatial_relations={})   translation:   0.29   1.46  angle:   -180.0 deg  scale: 0.58\n",
      "{}\n",
      "object: SignRightTIntersect(children={}, spatial_relations={})   translation:   0.88   1.46  angle:   -180.0 deg  scale: 0.58\n",
      "{}\n",
      "object: SignRightTIntersect(children={}, spatial_relations={})   translation:   1.46   1.46  angle:   -180.0 deg  scale: 0.58\n",
      "{}\n",
      "object: SignRightTIntersect(children={}, spatial_relations={})   translation:   2.05   1.46  angle:   -180.0 deg  scale: 0.58\n",
      "{}\n",
      "object: SignRightTIntersect(children={}, spatial_relations={})   translation:   2.63   1.46  angle:   -180.0 deg  scale: 0.58\n",
      "{}\n",
      "object: SignRightTIntersect(children={}, spatial_relations={})   translation:   3.22   1.46  angle:     90.0 deg  scale: 0.58\n",
      "{}\n",
      "object: SignRightTIntersect(children={}, spatial_relations={})   translation:   0.29   0.88  angle:      0.0 deg  scale: 0.58\n",
      "{}\n",
      "object: SignRightTIntersect(children={}, spatial_relations={})   translation:   0.88   0.88  angle:      0.0 deg  scale: 0.58\n",
      "{}\n",
      "object: SignRightTIntersect(children={}, spatial_relations={})   translation:   1.46   0.88  angle: -90.00000000000001 deg  scale: 0.58\n",
      "{}\n",
      "object: SignRightTIntersect(children={}, spatial_relations={})   translation:   2.05   0.88  angle:      0.0 deg  scale: 0.58\n",
      "{}\n",
      "object: SignRightTIntersect(children={}, spatial_relations={})   translation:   2.63   0.88  angle:      0.0 deg  scale: 0.58\n",
      "{}\n",
      "object: SignRightTIntersect(children={}, spatial_relations={})   translation:   3.22   0.88  angle: -90.00000000000001 deg  scale: 0.58\n",
      "{}\n",
      "object: SignRightTIntersect(children={}, spatial_relations={})   translation:   0.29   0.29  angle:      0.0 deg  scale: 0.58\n",
      "{}\n",
      "object: SignRightTIntersect(children={}, spatial_relations={})   translation:   0.88   0.29  angle:      0.0 deg  scale: 0.58\n",
      "{}\n",
      "object: SignRightTIntersect(children={}, spatial_relations={})   translation:   1.46   0.29  angle:   -180.0 deg  scale: 0.58\n",
      "{}\n",
      "object: SignRightTIntersect(children={}, spatial_relations={})   translation:   2.05   0.29  angle:   -180.0 deg  scale: 0.58\n",
      "{}\n",
      "object: SignRightTIntersect(children={}, spatial_relations={})   translation:   2.63   0.29  angle:   -180.0 deg  scale: 0.58\n",
      "{}\n",
      "object: SignRightTIntersect(children={}, spatial_relations={})   translation:   3.22   0.29  angle: -90.00000000000001 deg  scale: 0.58\n"
     ]
    }
   ],
   "source": [
    "import geometry as geo\n",
    "import numpy as np\n",
    "\n",
    "for record in list(iterate_by_class(m, dw.Tile)):\n",
    "    print(ob.children)\n",
    "    matrix = record.transform_sequence.asmatrix2d().m\n",
    "    translation, angle, scale = geo.translation_angle_scale_from_E2(matrix)\n",
    "    print('object: %22s   translation: %6.2f %6.2f  angle: %8s deg  scale: %.2f' % (ob, translation[0], translation[1], np.rad2deg(angle), scale))"
   ]
  },
  {
   "cell_type": "code",
   "execution_count": 71,
   "metadata": {},
   "outputs": [
    {
     "data": {
      "text/plain": [
       "['children', 'spatial_relations', 'tag']"
      ]
     },
     "execution_count": 71,
     "metadata": {},
     "output_type": "execute_result"
    }
   ],
   "source": [
    "[k for k, val in ob.__dict__.items() if not str(hex(id(val))) in str(val)]"
   ]
  },
  {
   "cell_type": "code",
   "execution_count": null,
   "metadata": {},
   "outputs": [],
   "source": []
  },
  {
   "cell_type": "code",
   "execution_count": null,
   "metadata": {},
   "outputs": [],
   "source": []
  }
 ],
 "metadata": {
  "kernelspec": {
   "display_name": "Python 3",
   "language": "python",
   "name": "python3"
  },
  "language_info": {
   "codemirror_mode": {
    "name": "ipython",
    "version": 3
   },
   "file_extension": ".py",
   "mimetype": "text/x-python",
   "name": "python",
   "nbconvert_exporter": "python",
   "pygments_lexer": "ipython3",
   "version": "3.7.4"
  }
 },
 "nbformat": 4,
 "nbformat_minor": 2
}
