{
 "cells": [
  {
   "cell_type": "markdown",
   "metadata": {},
   "source": [
    "# Sampling good poses\n",
    "\n",
    "This notebook shows you how to sample good poses for a robot.\n",
    "\n"
   ]
  },
  {
   "cell_type": "code",
   "execution_count": 1,
   "metadata": {},
   "outputs": [
    {
     "name": "stderr",
     "output_type": "stream",
     "text": [
      "INFO:dt-world:duckietown-world 1.0.19\n"
     ]
    }
   ],
   "source": [
    "import contracts\n",
    "contracts.disable_all()\n",
    "import duckietown_world as dw\n",
    "from duckietown_world.svg_drawing.ipython_utils import ipython_draw_html\n",
    "dw.logger.setLevel(50)"
   ]
  },
  {
   "cell_type": "markdown",
   "metadata": {},
   "source": [
    "First, we load a map."
   ]
  },
  {
   "cell_type": "code",
   "execution_count": 2,
   "metadata": {},
   "outputs": [
    {
     "data": {
      "text/html": [
       "\n",
       "        <iframe\n",
       "            width=\"100%\"\n",
       "            height=\"600\"\n",
       "            src=\"out/ipython_draw_html/4445593840/drawing.html\"\n",
       "            frameborder=\"0\"\n",
       "            allowfullscreen\n",
       "        ></iframe>\n",
       "        "
      ],
      "text/plain": [
       "<IPython.lib.display.IFrame at 0x11ffc7748>"
      ]
     },
     "metadata": {},
     "output_type": "display_data"
    }
   ],
   "source": [
    "m = dw.load_map('loop_obstacles')\n",
    "ipython_draw_html(m);"
   ]
  },
  {
   "cell_type": "code",
   "execution_count": 3,
   "metadata": {},
   "outputs": [
    {
     "name": "stdout",
     "output_type": "stream",
     "text": [
      "chosen segment IterateByTestResult(fqn=('tilemap', 'tile-1-3', 'straight', 'lane2'), transform_sequence=TransformSequence([Scale2D(scale=0.585), TileCoords(i=1,j=3,orientation=S), SE2Transform([0.0, 0.0],0.0), SE2Transform([0.0, 0.0],3.141592653589793)]), object=LaneSegment(width=0.376,control_points=[{'~SE2Transform': {'p': [-0.5, -0.22]}}, {'~SE2Transform': {'p': [0.5, -0.22]}}])) among 24\n",
      "[[ 2.83276945e-16 -1.00000000e+00  1.00619996e+00]\n",
      " [ 1.00000000e+00  2.83276945e-16  1.87199986e+00]\n",
      " [ 0.00000000e+00  0.00000000e+00  1.00000000e+00]]\n",
      "chosen segment IterateByTestResult(fqn=('tilemap', 'tile-1-2', 'straight', 'lane2'), transform_sequence=TransformSequence([Scale2D(scale=0.585), TileCoords(i=1,j=2,orientation=S), SE2Transform([0.0, 0.0],0.0), SE2Transform([0.0, 0.0],3.141592653589793)]), object=LaneSegment(width=0.376,control_points=[{'~SE2Transform': {'p': [-0.5, -0.22]}}, {'~SE2Transform': {'p': [0.5, -0.22]}}])) among 24\n",
      "[[ 2.83276945e-16 -1.00000000e+00  1.00619996e+00]\n",
      " [ 1.00000000e+00  2.83276945e-16  1.28699994e+00]\n",
      " [ 0.00000000e+00  0.00000000e+00  1.00000000e+00]]\n",
      "chosen segment IterateByTestResult(fqn=('tilemap', 'tile-4-5', 'straight', 'lane2'), transform_sequence=TransformSequence([Scale2D(scale=0.585), TileCoords(i=4,j=5,orientation=W), SE2Transform([0.0, 0.0],0.0), SE2Transform([0.0, 0.0],3.141592653589793)]), object=LaneSegment(width=0.376,control_points=[{'~SE2Transform': {'p': [-0.5, -0.22]}}, {'~SE2Transform': {'p': [0.5, -0.22]}}])) among 24\n",
      "[[ 1.00000000e+00  2.44929382e-16  2.45700002e+00]\n",
      " [-2.44929382e-16  1.00000000e+00  3.08879995e+00]\n",
      " [ 0.00000000e+00  0.00000000e+00  1.00000000e+00]]\n",
      "chosen segment IterateByTestResult(fqn=('tilemap', 'tile-3-5', 'straight', 'lane1'), transform_sequence=TransformSequence([Scale2D(scale=0.585), TileCoords(i=3,j=5,orientation=W), SE2Transform([0.0, 0.0],0.0), SE2Transform([0.0, 0.0],0.0)]), object=LaneSegment(width=0.376,control_points=[{'~SE2Transform': {'p': [-0.5, -0.22]}}, {'~SE2Transform': {'p': [0.5, -0.22]}}])) among 24\n",
      "[[-1.00000000e+00  1.22464680e-16  2.22299981e+00]\n",
      " [-1.22464680e-16 -1.00000000e+00  3.34619999e+00]\n",
      " [ 0.00000000e+00  0.00000000e+00  1.00000000e+00]]\n"
     ]
    },
    {
     "data": {
      "text/html": [
       "\n",
       "        <iframe\n",
       "            width=\"100%\"\n",
       "            height=\"600\"\n",
       "            src=\"out/ipython_draw_html/4445593840/drawing.html\"\n",
       "            frameborder=\"0\"\n",
       "            allowfullscreen\n",
       "        ></iframe>\n",
       "        "
      ],
      "text/plain": [
       "<IPython.lib.display.IFrame at 0x1200461d0>"
      ]
     },
     "metadata": {},
     "output_type": "display_data"
    }
   ],
   "source": [
    "from duckietown_world.world_duckietown.sampling_poses import sample_good_starting_pose\n",
    "\n",
    "for i in range(4):\n",
    "    q = sample_good_starting_pose(m);\n",
    "    print(q)\n",
    "    m.set_object('db18-%s'% i, dw.DB18(), ground_truth=dw.SE2Transform.from_SE2(q))\n",
    "ipython_draw_html(m);"
   ]
  },
  {
   "cell_type": "code",
   "execution_count": 5,
   "metadata": {},
   "outputs": [
    {
     "ename": "NameError",
     "evalue": "name 'print_tree' is not defined",
     "output_type": "error",
     "traceback": [
      "\u001b[0;31m---------------------------------------------------------------------------\u001b[0m",
      "\u001b[0;31mNameError\u001b[0m                                 Traceback (most recent call last)",
      "\u001b[0;32m<ipython-input-5-8aa1e594b28d>\u001b[0m in \u001b[0;36m<module>\u001b[0;34m\u001b[0m\n\u001b[0;32m----> 1\u001b[0;31m \u001b[0mprint_tree\u001b[0m\u001b[0;34m(\u001b[0m\u001b[0mdo\u001b[0m\u001b[0;34m)\u001b[0m\u001b[0;34m\u001b[0m\u001b[0;34m\u001b[0m\u001b[0m\n\u001b[0m",
      "\u001b[0;31mNameError\u001b[0m: name 'print_tree' is not defined"
     ]
    }
   ],
   "source": [
    "print_tree(do)"
   ]
  },
  {
   "cell_type": "code",
   "execution_count": null,
   "metadata": {},
   "outputs": [],
   "source": []
  },
  {
   "cell_type": "code",
   "execution_count": null,
   "metadata": {},
   "outputs": [],
   "source": []
  }
 ],
 "metadata": {
  "kernelspec": {
   "display_name": "Python 3",
   "language": "python",
   "name": "python3"
  },
  "language_info": {
   "codemirror_mode": {
    "name": "ipython",
    "version": 3
   },
   "file_extension": ".py",
   "mimetype": "text/x-python",
   "name": "python",
   "nbconvert_exporter": "python",
   "pygments_lexer": "ipython3",
   "version": "3.7.4"
  }
 },
 "nbformat": 4,
 "nbformat_minor": 2
}
