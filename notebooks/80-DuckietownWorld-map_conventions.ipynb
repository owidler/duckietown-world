{
 "cells": [
  {
   "cell_type": "markdown",
   "metadata": {},
   "source": [
    "## Setup"
   ]
  },
  {
   "cell_type": "code",
   "execution_count": 6,
   "metadata": {},
   "outputs": [],
   "source": [
    "# disabling contracts for speed\n",
    "import contracts\n",
    "contracts.disable_all()"
   ]
  },
  {
   "cell_type": "code",
   "execution_count": 7,
   "metadata": {},
   "outputs": [],
   "source": [
    "import duckietown_world as dw\n",
    "# reducing the verbosity to critical\n",
    "# dw.logger.setLevel(50)\n",
    "from duckietown_world.svg_drawing.ipython_utils import ipython_draw_svg, ipython_draw_html"
   ]
  },
  {
   "cell_type": "markdown",
   "metadata": {},
   "source": [
    "## Map conventions for slots\n",
    "\n",
    "It is possible to place things in \"slots\" in each tile.\n",
    "\n",
    "By convention some of these slots are actually outside the tile."
   ]
  },
  {
   "cell_type": "code",
   "execution_count": 8,
   "metadata": {},
   "outputs": [],
   "source": [
    "tile = dw.Tile('asphalt', True)"
   ]
  },
  {
   "cell_type": "code",
   "execution_count": 9,
   "metadata": {},
   "outputs": [
    {
     "name": "stdout",
     "output_type": "stream",
     "text": [
      "Tile\n",
      "\n",
      " kind: asphalt\n",
      " drivable: true\n",
      " \n",
      "\n",
      "└ slots ┐ PlacedObject\n",
      "        │ \n",
      "        │ ├ 0 ┐ SignSlot\n",
      "        │ │   └───────────\n",
      "        │ ├ 1 ┐ SignSlot\n",
      "        │ │   └───────────\n",
      "        │ ├ 2 ┐ SignSlot\n",
      "        │ │   └───────────\n",
      "        │ ├ 3 ┐ SignSlot\n",
      "        │ │   └───────────\n",
      "        │ ├ 4 ┐ SignSlot\n",
      "        │ │   └───────────\n",
      "        │ ├ 5 ┐ SignSlot\n",
      "        │ │   └───────────\n",
      "        │ ├ 6 ┐ SignSlot\n",
      "        │ │   └───────────\n",
      "        │ └ 7 ┐ SignSlot\n",
      "        │     └───────────\n",
      "        │ \n",
      "        │ - from \".\" to \"0\"  SE2Transform([-0.3, -0.45],0.0)\n",
      "        │ - from \".\" to \"1\"  SE2Transform([-0.45, -0.3],0.0)\n",
      "        │ - from \".\" to \"2\"  SE2Transform([-0.55, -0.3],0.0)\n",
      "        │ - from \".\" to \"3\"  SE2Transform([-0.7, -0.45],0.0)\n",
      "        │ - from \".\" to \"4\"  SE2Transform([-0.7, -0.55],0.0)\n",
      "        │ - from \".\" to \"5\"  SE2Transform([-0.55, -0.7],0.0)\n",
      "        │ - from \".\" to \"6\"  SE2Transform([-0.45, -0.7],0.0)\n",
      "        │ - from \".\" to \"7\"  SE2Transform([-0.3, -0.55],0.0)\n",
      "        └─────────────────────────────────────────────────────\n",
      "\n",
      "- from \".\" to \"slots\"  SE2Transform([0.0, 0.0],0.0) \n"
     ]
    }
   ],
   "source": [
    "print(dw.get_object_tree(tile, attributes=True, spatial_relations=True))"
   ]
  },
  {
   "cell_type": "code",
   "execution_count": 10,
   "metadata": {},
   "outputs": [
    {
     "name": "stderr",
     "output_type": "stream",
     "text": [
      "INFO:dt-world:area: RectangularArea(pmin=[-0.9 -0.9],pmax=[0.9 0.9])\n",
      "INFO:dt-world:Written SVG to out/ipython_draw_html/140442700324112/drawing.svg\n",
      "INFO:dt-world:Written HTML to out/ipython_draw_html/140442700324112/drawing.html\n"
     ]
    },
    {
     "data": {
      "text/html": [
       "\n",
       "        <iframe\n",
       "            width=\"100%\"\n",
       "            height=\"600\"\n",
       "            src=\"out/ipython_draw_html/140442700324112/drawing.html\"\n",
       "            frameborder=\"0\"\n",
       "            allowfullscreen\n",
       "        ></iframe>\n",
       "        "
      ],
      "text/plain": [
       "<IPython.lib.display.IFrame at 0x7fbb24b536d0>"
      ]
     },
     "metadata": {},
     "output_type": "display_data"
    }
   ],
   "source": [
    "B=0.9\n",
    "area = dw.RectangularArea([-B,-B], [B,B])\n",
    "ipython_draw_html(tile, area=area);"
   ]
  },
  {
   "cell_type": "code",
   "execution_count": null,
   "metadata": {},
   "outputs": [],
   "source": []
  }
 ],
 "metadata": {
  "kernelspec": {
   "display_name": "Python 3",
   "language": "python",
   "name": "python3"
  },
  "language_info": {
   "codemirror_mode": {
    "name": "ipython",
    "version": 3
   },
   "file_extension": ".py",
   "mimetype": "text/x-python",
   "name": "python",
   "nbconvert_exporter": "python",
   "pygments_lexer": "ipython3",
   "version": "3.7.4"
  }
 },
 "nbformat": 4,
 "nbformat_minor": 2
}
